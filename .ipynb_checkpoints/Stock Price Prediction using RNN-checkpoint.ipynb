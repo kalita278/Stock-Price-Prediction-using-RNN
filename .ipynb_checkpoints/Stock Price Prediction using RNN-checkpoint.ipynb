{
 "cells": [
  {
   "cell_type": "code",
   "execution_count": 1,
   "id": "6ca97813",
   "metadata": {},
   "outputs": [],
   "source": [
    "import numpy as np\n",
    "import pandas as pd\n",
    "import matplotlib.pyplot as plt\n",
    "import tensorflow as tf\n",
    "%matplotlib inline"
   ]
  },
  {
   "cell_type": "markdown",
   "id": "151b930c",
   "metadata": {},
   "source": [
    "# Data Preprocessing"
   ]
  },
  {
   "cell_type": "code",
   "execution_count": 5,
   "id": "76d4ece9",
   "metadata": {},
   "outputs": [],
   "source": [
    "#Reading the training dataset\n",
    "dataset_train = pd.read_csv('D:/Users/dell1/Desktop/CERTIFICATES/Deep learning/RNN/Part+3+-+Recurrent+Neural+Networks/Part 3 - Recurrent Neural Networks/Google_Stock_Price_Train.csv')"
   ]
  },
  {
   "cell_type": "code",
   "execution_count": null,
   "id": "cab8bd61",
   "metadata": {},
   "outputs": [],
   "source": []
  },
  {
   "cell_type": "code",
   "execution_count": 10,
   "id": "9d5d1753",
   "metadata": {},
   "outputs": [],
   "source": [
    "#Converting the data to array\n",
    "train_set = dataset_train.iloc[:,1:2].values"
   ]
  },
  {
   "cell_type": "code",
   "execution_count": 14,
   "id": "ec10c5d4",
   "metadata": {},
   "outputs": [],
   "source": [
    "#Scaling the data\n",
    "from sklearn.preprocessing import MinMaxScaler\n",
    "sc = MinMaxScaler()\n",
    "train_set = sc.fit_transform(train_set)"
   ]
  },
  {
   "cell_type": "code",
   "execution_count": 24,
   "id": "3bb53134",
   "metadata": {},
   "outputs": [],
   "source": [
    "#Creating a data structure with 120 timesteps and 1 output\n",
    "x_train = []\n",
    "y_train = []\n",
    "for i in range(120,1258):\n",
    "    x_train.append(train_set[i-120:i,0])\n",
    "    y_train.append(train_set[i,0])\n",
    "    \n",
    "x_train, y_train = np.array(x_train), np.array(y_train)   "
   ]
  },
  {
   "cell_type": "code",
   "execution_count": 25,
   "id": "951aa554",
   "metadata": {},
   "outputs": [],
   "source": [
    "#Reshaping x_train\n",
    "x_train = np.reshape(x_train,(x_train.shape[0],x_train.shape[1],1))"
   ]
  },
  {
   "cell_type": "markdown",
   "id": "10e52e45",
   "metadata": {},
   "source": [
    "# Building the RNN"
   ]
  },
  {
   "cell_type": "code",
   "execution_count": 27,
   "id": "178d8d08",
   "metadata": {},
   "outputs": [],
   "source": [
    "#Initialize the RNN\n",
    "regressor = tf.keras.models.Sequential()"
   ]
  },
  {
   "cell_type": "code",
   "execution_count": 30,
   "id": "8b4208a2",
   "metadata": {},
   "outputs": [],
   "source": [
    "#Adding the 1st LSTM layer and dropout regularisation\n",
    "regressor.add(tf.keras.layers.LSTM(units = 100,return_sequences = True,input_shape = (x_train.shape[1],1)))\n",
    "regressor.add(tf.keras.layers.Dropout(0.2))"
   ]
  },
  {
   "cell_type": "code",
   "execution_count": 31,
   "id": "3dc15289",
   "metadata": {},
   "outputs": [],
   "source": [
    "#Adding the 2nd LSTM layer and dropout regularisation\n",
    "regressor.add(tf.keras.layers.LSTM(units = 100,return_sequences = True))\n",
    "regressor.add(tf.keras.layers.Dropout(0.2))"
   ]
  },
  {
   "cell_type": "code",
   "execution_count": 32,
   "id": "47bb871a",
   "metadata": {},
   "outputs": [],
   "source": [
    "#Adding the 3rd LSTM layer and dropout regularisation\n",
    "regressor.add(tf.keras.layers.LSTM(units = 100,return_sequences = True))\n",
    "regressor.add(tf.keras.layers.Dropout(0.2))"
   ]
  },
  {
   "cell_type": "code",
   "execution_count": 33,
   "id": "76906756",
   "metadata": {},
   "outputs": [],
   "source": [
    "#Adding the 4th LSTM layer and dropout regularisation\n",
    "regressor.add(tf.keras.layers.LSTM(units = 100,return_sequences = True))\n",
    "regressor.add(tf.keras.layers.Dropout(0.2))"
   ]
  },
  {
   "cell_type": "code",
   "execution_count": 34,
   "id": "b31a0dcd",
   "metadata": {},
   "outputs": [],
   "source": [
    "#Adding the 5th LSTM layer and dropout regularisation\n",
    "regressor.add(tf.keras.layers.LSTM(units = 100,return_sequences = True))\n",
    "regressor.add(tf.keras.layers.Dropout(0.2))"
   ]
  },
  {
   "cell_type": "code",
   "execution_count": 35,
   "id": "bfaf9cee",
   "metadata": {},
   "outputs": [],
   "source": [
    "#Adding the 7th LSTM layer and dropout regularisation\n",
    "regressor.add(tf.keras.layers.LSTM(units = 100,return_sequences = True))\n",
    "regressor.add(tf.keras.layers.Dropout(0.2))"
   ]
  },
  {
   "cell_type": "code",
   "execution_count": 36,
   "id": "f246d1b8",
   "metadata": {},
   "outputs": [],
   "source": [
    "#Adding the 8th LSTM layer and dropout regularisation\n",
    "regressor.add(tf.keras.layers.LSTM(units = 100,return_sequences = False))\n",
    "regressor.add(tf.keras.layers.Dropout(0.2))"
   ]
  },
  {
   "cell_type": "code",
   "execution_count": 37,
   "id": "2bf23137",
   "metadata": {},
   "outputs": [],
   "source": [
    "#Adding the output layer\n",
    "regressor.add(tf.keras.layers.Dense(units=1))"
   ]
  },
  {
   "cell_type": "code",
   "execution_count": 39,
   "id": "0d89f54c",
   "metadata": {},
   "outputs": [],
   "source": [
    "#Compiling the RNN\n",
    "regressor.compile(optimizer='adam',loss='mean_squared_error')"
   ]
  },
  {
   "cell_type": "code",
   "execution_count": 40,
   "id": "d52d374d",
   "metadata": {},
   "outputs": [
    {
     "name": "stdout",
     "output_type": "stream",
     "text": [
      "Epoch 1/100\n",
      "36/36 [==============================] - 32s 535ms/step - loss: 0.0470\n",
      "Epoch 2/100\n",
      "36/36 [==============================] - 20s 567ms/step - loss: 0.0091\n",
      "Epoch 3/100\n",
      "36/36 [==============================] - 21s 585ms/step - loss: 0.0061\n",
      "Epoch 4/100\n",
      "36/36 [==============================] - 22s 613ms/step - loss: 0.0058\n",
      "Epoch 5/100\n",
      "36/36 [==============================] - 21s 597ms/step - loss: 0.0064\n",
      "Epoch 6/100\n",
      "36/36 [==============================] - 22s 613ms/step - loss: 0.0061\n",
      "Epoch 7/100\n",
      "36/36 [==============================] - 22s 611ms/step - loss: 0.0060\n",
      "Epoch 8/100\n",
      "36/36 [==============================] - 22s 615ms/step - loss: 0.0053\n",
      "Epoch 9/100\n",
      "36/36 [==============================] - 24s 670ms/step - loss: 0.0050\n",
      "Epoch 10/100\n",
      "36/36 [==============================] - 25s 707ms/step - loss: 0.0050\n",
      "Epoch 11/100\n",
      "36/36 [==============================] - 26s 720ms/step - loss: 0.0044\n",
      "Epoch 12/100\n",
      "36/36 [==============================] - 26s 731ms/step - loss: 0.0043\n",
      "Epoch 13/100\n",
      "36/36 [==============================] - 29s 791ms/step - loss: 0.0050\n",
      "Epoch 14/100\n",
      "36/36 [==============================] - 28s 772ms/step - loss: 0.0035\n",
      "Epoch 15/100\n",
      "36/36 [==============================] - 27s 748ms/step - loss: 0.0038\n",
      "Epoch 16/100\n",
      "36/36 [==============================] - 26s 723ms/step - loss: 0.0036\n",
      "Epoch 17/100\n",
      "36/36 [==============================] - 25s 684ms/step - loss: 0.0037\n",
      "Epoch 18/100\n",
      "36/36 [==============================] - 24s 662ms/step - loss: 0.0031\n",
      "Epoch 19/100\n",
      "36/36 [==============================] - 24s 664ms/step - loss: 0.0036\n",
      "Epoch 20/100\n",
      "36/36 [==============================] - 25s 684ms/step - loss: 0.0033\n",
      "Epoch 21/100\n",
      "36/36 [==============================] - 25s 685ms/step - loss: 0.0035\n",
      "Epoch 22/100\n",
      "36/36 [==============================] - 24s 672ms/step - loss: 0.0034\n",
      "Epoch 23/100\n",
      "36/36 [==============================] - 24s 670ms/step - loss: 0.0039\n",
      "Epoch 24/100\n",
      "36/36 [==============================] - 24s 677ms/step - loss: 0.0039\n",
      "Epoch 25/100\n",
      "36/36 [==============================] - 25s 696ms/step - loss: 0.0031\n",
      "Epoch 26/100\n",
      "36/36 [==============================] - 27s 737ms/step - loss: 0.0040\n",
      "Epoch 27/100\n",
      "36/36 [==============================] - 25s 681ms/step - loss: 0.0034\n",
      "Epoch 28/100\n",
      "36/36 [==============================] - 25s 700ms/step - loss: 0.0034\n",
      "Epoch 29/100\n",
      "36/36 [==============================] - 24s 677ms/step - loss: 0.0028\n",
      "Epoch 30/100\n",
      "36/36 [==============================] - 25s 696ms/step - loss: 0.0028\n",
      "Epoch 31/100\n",
      "36/36 [==============================] - 25s 705ms/step - loss: 0.0027\n",
      "Epoch 32/100\n",
      "36/36 [==============================] - 25s 683ms/step - loss: 0.0029\n",
      "Epoch 33/100\n",
      "36/36 [==============================] - 25s 700ms/step - loss: 0.0029\n",
      "Epoch 34/100\n",
      "36/36 [==============================] - 25s 687ms/step - loss: 0.0030\n",
      "Epoch 35/100\n",
      "36/36 [==============================] - 25s 699ms/step - loss: 0.0030\n",
      "Epoch 36/100\n",
      "36/36 [==============================] - 25s 686ms/step - loss: 0.0028\n",
      "Epoch 37/100\n",
      "36/36 [==============================] - 25s 703ms/step - loss: 0.0029\n",
      "Epoch 38/100\n",
      "36/36 [==============================] - 25s 693ms/step - loss: 0.0026\n",
      "Epoch 39/100\n",
      "36/36 [==============================] - 25s 686ms/step - loss: 0.0025\n",
      "Epoch 40/100\n",
      "36/36 [==============================] - 25s 691ms/step - loss: 0.0025\n",
      "Epoch 41/100\n",
      "36/36 [==============================] - 25s 700ms/step - loss: 0.0026\n",
      "Epoch 42/100\n",
      "36/36 [==============================] - 25s 694ms/step - loss: 0.0027\n",
      "Epoch 43/100\n",
      "36/36 [==============================] - 25s 696ms/step - loss: 0.0024\n",
      "Epoch 44/100\n",
      "36/36 [==============================] - 25s 702ms/step - loss: 0.0023\n",
      "Epoch 45/100\n",
      "36/36 [==============================] - 25s 694ms/step - loss: 0.0022\n",
      "Epoch 46/100\n",
      "36/36 [==============================] - 25s 691ms/step - loss: 0.0020\n",
      "Epoch 47/100\n",
      "36/36 [==============================] - 25s 694ms/step - loss: 0.0021\n",
      "Epoch 48/100\n",
      "36/36 [==============================] - 25s 685ms/step - loss: 0.0022\n",
      "Epoch 49/100\n",
      "36/36 [==============================] - 28s 782ms/step - loss: 0.0021\n",
      "Epoch 50/100\n",
      "36/36 [==============================] - 26s 710ms/step - loss: 0.0021\n",
      "Epoch 51/100\n",
      "36/36 [==============================] - 25s 700ms/step - loss: 0.0021\n",
      "Epoch 52/100\n",
      "36/36 [==============================] - 25s 698ms/step - loss: 0.0022\n",
      "Epoch 53/100\n",
      "36/36 [==============================] - 25s 703ms/step - loss: 0.0018\n",
      "Epoch 54/100\n",
      "36/36 [==============================] - 25s 697ms/step - loss: 0.0021\n",
      "Epoch 55/100\n",
      "36/36 [==============================] - 25s 689ms/step - loss: 0.0024\n",
      "Epoch 56/100\n",
      "36/36 [==============================] - 25s 706ms/step - loss: 0.0019\n",
      "Epoch 57/100\n",
      "36/36 [==============================] - 26s 709ms/step - loss: 0.0018\n",
      "Epoch 58/100\n",
      "36/36 [==============================] - 25s 697ms/step - loss: 0.0020\n",
      "Epoch 59/100\n",
      "36/36 [==============================] - 25s 699ms/step - loss: 0.0020\n",
      "Epoch 60/100\n",
      "36/36 [==============================] - 25s 691ms/step - loss: 0.0023\n",
      "Epoch 61/100\n",
      "36/36 [==============================] - 26s 717ms/step - loss: 0.0019\n",
      "Epoch 62/100\n",
      "36/36 [==============================] - 25s 702ms/step - loss: 0.0020\n",
      "Epoch 63/100\n",
      "36/36 [==============================] - 26s 710ms/step - loss: 0.0019\n",
      "Epoch 64/100\n",
      "36/36 [==============================] - 25s 694ms/step - loss: 0.0017\n",
      "Epoch 65/100\n",
      "36/36 [==============================] - 25s 701ms/step - loss: 0.0015\n",
      "Epoch 66/100\n",
      "36/36 [==============================] - 25s 706ms/step - loss: 0.0016\n",
      "Epoch 67/100\n",
      "36/36 [==============================] - 25s 693ms/step - loss: 0.0015\n",
      "Epoch 68/100\n",
      "36/36 [==============================] - 25s 703ms/step - loss: 0.0016\n",
      "Epoch 69/100\n",
      "36/36 [==============================] - 25s 704ms/step - loss: 0.0017\n",
      "Epoch 70/100\n",
      "36/36 [==============================] - 26s 707ms/step - loss: 0.0015\n",
      "Epoch 71/100\n",
      "36/36 [==============================] - 25s 700ms/step - loss: 0.0016\n",
      "Epoch 72/100\n",
      "36/36 [==============================] - 25s 694ms/step - loss: 0.0016\n",
      "Epoch 73/100\n",
      "36/36 [==============================] - 26s 732ms/step - loss: 0.0015\n",
      "Epoch 74/100\n",
      "36/36 [==============================] - 25s 694ms/step - loss: 0.0014\n",
      "Epoch 75/100\n",
      "36/36 [==============================] - 27s 743ms/step - loss: 0.0019\n",
      "Epoch 76/100\n",
      "36/36 [==============================] - 26s 711ms/step - loss: 0.0017\n",
      "Epoch 77/100\n",
      "36/36 [==============================] - 25s 696ms/step - loss: 0.0019\n",
      "Epoch 78/100\n",
      "36/36 [==============================] - 25s 697ms/step - loss: 0.0016\n",
      "Epoch 79/100\n",
      "36/36 [==============================] - 25s 695ms/step - loss: 0.0014\n",
      "Epoch 80/100\n",
      "36/36 [==============================] - 26s 717ms/step - loss: 0.0014\n",
      "Epoch 81/100\n",
      "36/36 [==============================] - 25s 692ms/step - loss: 0.0016\n",
      "Epoch 82/100\n",
      "36/36 [==============================] - 25s 694ms/step - loss: 0.0014\n",
      "Epoch 83/100\n",
      "36/36 [==============================] - 26s 725ms/step - loss: 0.0014\n",
      "Epoch 84/100\n",
      "36/36 [==============================] - 27s 753ms/step - loss: 0.0013\n",
      "Epoch 85/100\n",
      "36/36 [==============================] - 26s 712ms/step - loss: 0.0013\n",
      "Epoch 86/100\n",
      "36/36 [==============================] - 26s 711ms/step - loss: 0.0013\n",
      "Epoch 87/100\n",
      "36/36 [==============================] - 25s 696ms/step - loss: 0.0014\n",
      "Epoch 88/100\n",
      "36/36 [==============================] - 25s 697ms/step - loss: 0.0016\n",
      "Epoch 89/100\n",
      "36/36 [==============================] - 25s 698ms/step - loss: 0.0014\n",
      "Epoch 90/100\n",
      "36/36 [==============================] - 26s 731ms/step - loss: 0.0014\n",
      "Epoch 91/100\n",
      "36/36 [==============================] - 26s 709ms/step - loss: 0.0014\n",
      "Epoch 92/100\n",
      "36/36 [==============================] - 25s 693ms/step - loss: 0.0013\n",
      "Epoch 93/100\n",
      "36/36 [==============================] - 25s 702ms/step - loss: 0.0012\n",
      "Epoch 94/100\n",
      "36/36 [==============================] - 26s 709ms/step - loss: 0.0013\n",
      "Epoch 95/100\n",
      "36/36 [==============================] - 26s 711ms/step - loss: 0.0016\n",
      "Epoch 96/100\n",
      "36/36 [==============================] - 26s 711ms/step - loss: 0.0014\n",
      "Epoch 97/100\n",
      "36/36 [==============================] - 26s 726ms/step - loss: 0.0012\n",
      "Epoch 98/100\n",
      "36/36 [==============================] - 26s 721ms/step - loss: 0.0015\n",
      "Epoch 99/100\n",
      "36/36 [==============================] - 25s 694ms/step - loss: 0.0013\n",
      "Epoch 100/100\n",
      "36/36 [==============================] - 26s 711ms/step - loss: 0.0012\n"
     ]
    },
    {
     "data": {
      "text/plain": [
       "<keras.callbacks.History at 0x153f1f5ae80>"
      ]
     },
     "execution_count": 40,
     "metadata": {},
     "output_type": "execute_result"
    }
   ],
   "source": [
    "#Fitting the RNN into the training set\n",
    "regressor.fit(x_train,y_train,epochs=100,batch_size=32)"
   ]
  },
  {
   "cell_type": "markdown",
   "id": "6a97e421",
   "metadata": {},
   "source": [
    "# Making the prediction and Visualizing the results"
   ]
  },
  {
   "cell_type": "code",
   "execution_count": 46,
   "id": "367025c4",
   "metadata": {},
   "outputs": [],
   "source": [
    "#getting the testing data\n",
    "dataset_test = pd.read_csv('D:/Users/dell1/Desktop/CERTIFICATES/Deep learning/RNN/Part+3+-+Recurrent+Neural+Networks/Part 3 - Recurrent Neural Networks/Google_Stock_Price_Test.csv')"
   ]
  },
  {
   "cell_type": "code",
   "execution_count": 47,
   "id": "7b2494cd",
   "metadata": {},
   "outputs": [],
   "source": [
    "test_set = dataset_test.iloc[:,1:2].values"
   ]
  },
  {
   "cell_type": "code",
   "execution_count": 89,
   "id": "e48d6b89",
   "metadata": {},
   "outputs": [],
   "source": [
    "#Getting the predicted stock price\n",
    "dataset_total = pd.concat((dataset_train['Open'],dataset_test['Open']),axis=0)\n",
    "inputs = dataset_total[len(dataset_train)-120:].values\n",
    "inputs = inputs.reshape(-1,1)\n",
    "inputs = sc.transform(inputs)\n",
    "x_test = []\n",
    "for i in range(120,140):\n",
    "    x_test.append(inputs[i-120:i,0])\n",
    "x_test = np.array(x_test)"
   ]
  },
  {
   "cell_type": "code",
   "execution_count": 91,
   "id": "2d21e399",
   "metadata": {},
   "outputs": [],
   "source": [
    "#Reshaping x-test\n",
    "x_test = np.reshape(x_test,(x_test.shape[0],x_test.shape[1],1))"
   ]
  },
  {
   "cell_type": "code",
   "execution_count": 93,
   "id": "98800a31",
   "metadata": {},
   "outputs": [],
   "source": [
    "#Making the prediction\n",
    "predicted_stock_price = regressor.predict(x_test)"
   ]
  },
  {
   "cell_type": "code",
   "execution_count": 95,
   "id": "5115f38f",
   "metadata": {},
   "outputs": [],
   "source": [
    "#Inverse scalig the output\n",
    "predicted_stock_price = sc.inverse_transform(predicted_stock_price)"
   ]
  },
  {
   "cell_type": "code",
   "execution_count": 106,
   "id": "0f8fb06d",
   "metadata": {},
   "outputs": [
    {
     "data": {
      "image/png": "[encoded data removed]",
      "text/plain": [
       "<Figure size 1440x576 with 1 Axes>"
      ]
     },
     "metadata": {
      "needs_background": "light"
     },
     "output_type": "display_data"
    }
   ],
   "source": [
    "#Visualizing the performance through graph\n",
    "plt.figure(figsize=(20,8))\n",
    "plt.plot(test_set, color ='r', label = 'Real google stock price')\n",
    "plt.plot(predicted_stock_price, color = 'b', label = 'Predicted google stock price')\n",
    "plt.title('Google Stock Price Prediction')\n",
    "plt.xlabel('Time')\n",
    "plt.ylabel('Google stock price')\n",
    "plt.legend()\n",
    "plt.show()"
   ]
  },
  {
   "cell_type": "code",
   "execution_count": null,
   "id": "7868f9fa",
   "metadata": {},
   "outputs": [],
   "source": []
  }
 ],
 "metadata": {
  "kernelspec": {
   "display_name": "Python 3",
   "language": "python",
   "name": "python3"
  },
  "language_info": {
   "codemirror_mode": {
    "name": "ipython",
    "version": 3
   },
   "file_extension": ".py",
   "mimetype": "text/x-python",
   "name": "python",
   "nbconvert_exporter": "python",
   "pygments_lexer": "ipython3",
   "version": "3.8.8"
  }
 },
 "nbformat": 4,
 "nbformat_minor": 5
}
