{
 "cells": [
  {
   "cell_type": "markdown",
   "metadata": {
    "colab_type": "text",
    "id": "nxJfRe4bfYVA"
   },
   "source": [
    "## Data Preprocessing"
   ]
  },
  {
   "cell_type": "markdown",
   "metadata": {
    "colab_type": "text",
    "id": "ir9zwETrfbrp"
   },
   "source": [
    "### Importing the libraries"
   ]
  },
  {
   "cell_type": "code",
   "execution_count": 2,
   "metadata": {
    "colab": {},
    "colab_type": "code",
    "id": "ZT1f24vHffuf"
   },
   "outputs": [],
   "source": [
    "import numpy as np\n",
    "import matplotlib.pyplot as plt\n",
    "import pandas as pd"
   ]
  },
  {
   "cell_type": "markdown",
   "metadata": {
    "colab_type": "text",
    "id": "nQ47JAxrgmaL"
   },
   "source": [
    "### Importing the training set"
   ]
  },
  {
   "cell_type": "code",
   "execution_count": 3,
   "metadata": {
    "colab": {},
    "colab_type": "code",
    "id": "1xiv3pJOgqY3"
   },
   "outputs": [],
   "source": [
    "dataset_train = pd.read_csv('Google_Stock_Price_Train.csv')\n",
    "training_set = dataset_train.iloc[:, 1:2].values"
   ]
  },
  {
   "cell_type": "markdown",
   "metadata": {
    "colab_type": "text",
    "id": "HT8_2UJegtG5"
   },
   "source": [
    "### Feature Scaling"
   ]
  },
  {
   "cell_type": "code",
   "execution_count": 4,
   "metadata": {
    "colab": {},
    "colab_type": "code",
    "id": "OTrF2kR7gx9x"
   },
   "outputs": [],
   "source": [
    "from sklearn.preprocessing import MinMaxScaler\n",
    "sc = MinMaxScaler(feature_range = (0, 1))\n",
    "training_set_scaled = sc.fit_transform(training_set)"
   ]
  },
  {
   "cell_type": "markdown",
   "metadata": {
    "colab_type": "text",
    "id": "JyYgYocqhNUg"
   },
   "source": [
    "### Creating a data structure with 60 timesteps and 1 output"
   ]
  },
  {
   "cell_type": "code",
   "execution_count": 5,
   "metadata": {
    "colab": {},
    "colab_type": "code",
    "id": "iofU21B0i6ST"
   },
   "outputs": [],
   "source": [
    "X_train = []\n",
    "y_train = []\n",
    "for i in range(60, 1258):\n",
    "    X_train.append(training_set_scaled[i-60:i, 0])\n",
    "    y_train.append(training_set_scaled[i, 0])\n",
    "X_train, y_train = np.array(X_train), np.array(y_train)"
   ]
  },
  {
   "cell_type": "markdown",
   "metadata": {
    "colab_type": "text",
    "id": "D8yaN7Zvi95l"
   },
   "source": [
    "### Reshaping"
   ]
  },
  {
   "cell_type": "code",
   "execution_count": 6,
   "metadata": {
    "colab": {},
    "colab_type": "code",
    "id": "FOXqJHmNjBkz"
   },
   "outputs": [],
   "source": [
    "X_train = np.reshape(X_train, (X_train.shape[0], X_train.shape[1], 1))"
   ]
  },
  {
   "cell_type": "markdown",
   "metadata": {
    "colab_type": "text",
    "id": "ZRRSOJeVjEWV"
   },
   "source": [
    "## Building and Training the RNN"
   ]
  },
  {
   "cell_type": "markdown",
   "metadata": {
    "colab_type": "text",
    "id": "k4XV88JMjHXG"
   },
   "source": [
    "### Importing the Keras libraries and packages"
   ]
  },
  {
   "cell_type": "code",
   "execution_count": 7,
   "metadata": {
    "colab": {
     "base_uri": "https://localhost:8080/",
     "height": 34
    },
    "colab_type": "code",
    "id": "9JRnqsxEjKsD",
    "outputId": "b3e23e78-18aa-4396-c923-c877b8de60e4"
   },
   "outputs": [],
   "source": [
    "from keras.models import Sequential\n",
    "from keras.layers import Dense\n",
    "from keras.layers import LSTM\n",
    "from keras.layers import Dropout"
   ]
  },
  {
   "cell_type": "markdown",
   "metadata": {
    "colab_type": "text",
    "id": "FEIE-1s9jNzC"
   },
   "source": [
    "### Initialising the RNN"
   ]
  },
  {
   "cell_type": "code",
   "execution_count": 8,
   "metadata": {
    "colab": {},
    "colab_type": "code",
    "id": "1338dJ0UjRKH"
   },
   "outputs": [],
   "source": [
    "regressor = Sequential()"
   ]
  },
  {
   "cell_type": "markdown",
   "metadata": {
    "colab_type": "text",
    "id": "62eg1OPGjT8z"
   },
   "source": [
    "### Adding the first LSTM layer and some Dropout regularisation"
   ]
  },
  {
   "cell_type": "code",
   "execution_count": 9,
   "metadata": {
    "colab": {},
    "colab_type": "code",
    "id": "2hIinyXUjbVU"
   },
   "outputs": [],
   "source": [
    "regressor.add(LSTM(units = 50, return_sequences = True, input_shape = (X_train.shape[1], 1)))\n",
    "regressor.add(Dropout(0.2))"
   ]
  },
  {
   "cell_type": "markdown",
   "metadata": {
    "colab_type": "text",
    "id": "3XBIYLyOjlMx"
   },
   "source": [
    "### Adding a second LSTM layer and some Dropout regularisation"
   ]
  },
  {
   "cell_type": "code",
   "execution_count": 10,
   "metadata": {
    "colab": {},
    "colab_type": "code",
    "id": "UG7nrVaSjuZ2"
   },
   "outputs": [],
   "source": [
    "regressor.add(LSTM(units = 50, return_sequences = True))\n",
    "regressor.add(Dropout(0.2))"
   ]
  },
  {
   "cell_type": "markdown",
   "metadata": {
    "colab_type": "text",
    "id": "Ey3fHVnGj1cu"
   },
   "source": [
    "### Adding a third LSTM layer and some Dropout regularisation"
   ]
  },
  {
   "cell_type": "code",
   "execution_count": 11,
   "metadata": {
    "colab": {},
    "colab_type": "code",
    "id": "PuNi6PgFj7jO"
   },
   "outputs": [],
   "source": [
    "regressor.add(LSTM(units = 50, return_sequences = True))\n",
    "regressor.add(Dropout(0.2))"
   ]
  },
  {
   "cell_type": "markdown",
   "metadata": {
    "colab_type": "text",
    "id": "SYTrtfTmj933"
   },
   "source": [
    "### Adding a fourth LSTM layer and some Dropout regularisation"
   ]
  },
  {
   "cell_type": "code",
   "execution_count": 12,
   "metadata": {
    "colab": {},
    "colab_type": "code",
    "id": "Jp4Ty8fRkBYV"
   },
   "outputs": [],
   "source": [
    "regressor.add(LSTM(units = 50))\n",
    "regressor.add(Dropout(0.2))"
   ]
  },
  {
   "cell_type": "markdown",
   "metadata": {
    "colab_type": "text",
    "id": "9ABI6rOIkHhk"
   },
   "source": [
    "### Adding the output layer"
   ]
  },
  {
   "cell_type": "code",
   "execution_count": 13,
   "metadata": {
    "colab": {},
    "colab_type": "code",
    "id": "aM6R1z4WkME8"
   },
   "outputs": [],
   "source": [
    "regressor.add(Dense(units = 1))"
   ]
  },
  {
   "cell_type": "markdown",
   "metadata": {
    "colab_type": "text",
    "id": "zLx4K7uUkPSh"
   },
   "source": [
    "### Compiling the RNN"
   ]
  },
  {
   "cell_type": "code",
   "execution_count": 14,
   "metadata": {
    "colab": {},
    "colab_type": "code",
    "id": "XTrhVN-tkbko"
   },
   "outputs": [],
   "source": [
    "regressor.compile(optimizer = 'adam', loss = 'mean_squared_error')"
   ]
  },
  {
   "cell_type": "markdown",
   "metadata": {
    "colab_type": "text",
    "id": "-mPhwKGkkebi"
   },
   "source": [
    "### Fitting the RNN to the Training set"
   ]
  },
  {
   "cell_type": "code",
   "execution_count": 15,
   "metadata": {
    "colab": {
     "base_uri": "https://localhost:8080/",
     "height": 1000
    },
    "colab_type": "code",
    "id": "I06Nkrz5kkb-",
    "outputId": "dc9d947a-4d5c-4dbc-ed45-31bf44b98dfb"
   },
   "outputs": [
    {
     "name": "stdout",
     "output_type": "stream",
     "text": [
      "Epoch 1/100\n",
      "38/38 [==============================] - 7s 57ms/step - loss: 0.0498\n",
      "Epoch 2/100\n",
      "38/38 [==============================] - 2s 58ms/step - loss: 0.0072\n",
      "Epoch 3/100\n",
      "38/38 [==============================] - 2s 59ms/step - loss: 0.0063\n",
      "Epoch 4/100\n",
      "38/38 [==============================] - 2s 62ms/step - loss: 0.0056\n",
      "Epoch 5/100\n",
      "38/38 [==============================] - 2s 64ms/step - loss: 0.0053\n",
      "Epoch 6/100\n",
      "38/38 [==============================] - 3s 68ms/step - loss: 0.0050\n",
      "Epoch 7/100\n",
      "38/38 [==============================] - 3s 67ms/step - loss: 0.0044\n",
      "Epoch 8/100\n",
      "38/38 [==============================] - 3s 81ms/step - loss: 0.0047\n",
      "Epoch 9/100\n",
      "38/38 [==============================] - 3s 79ms/step - loss: 0.0043\n",
      "Epoch 10/100\n",
      "38/38 [==============================] - 3s 76ms/step - loss: 0.0038\n",
      "Epoch 11/100\n",
      "38/38 [==============================] - 3s 90ms/step - loss: 0.0046\n",
      "Epoch 12/100\n",
      "38/38 [==============================] - 3s 78ms/step - loss: 0.0053\n",
      "Epoch 13/100\n",
      "38/38 [==============================] - 3s 89ms/step - loss: 0.0042\n",
      "Epoch 14/100\n",
      "38/38 [==============================] - 3s 72ms/step - loss: 0.0039\n",
      "Epoch 15/100\n",
      "38/38 [==============================] - 3s 82ms/step - loss: 0.0035\n",
      "Epoch 16/100\n",
      "38/38 [==============================] - 3s 90ms/step - loss: 0.0039\n",
      "Epoch 17/100\n",
      "38/38 [==============================] - 3s 76ms/step - loss: 0.0035\n",
      "Epoch 18/100\n",
      "38/38 [==============================] - 3s 75ms/step - loss: 0.0034\n",
      "Epoch 19/100\n",
      "38/38 [==============================] - 3s 84ms/step - loss: 0.0035\n",
      "Epoch 20/100\n",
      "38/38 [==============================] - 4s 110ms/step - loss: 0.0035\n",
      "Epoch 21/100\n",
      "38/38 [==============================] - 3s 83ms/step - loss: 0.0032: 0s - loss: 0.003\n",
      "Epoch 22/100\n",
      "38/38 [==============================] - 3s 76ms/step - loss: 0.0033:\n",
      "Epoch 23/100\n",
      "38/38 [==============================] - 3s 83ms/step - loss: 0.0033\n",
      "Epoch 24/100\n",
      "38/38 [==============================] - 4s 104ms/step - loss: 0.0033 0s - loss\n",
      "Epoch 25/100\n",
      "38/38 [==============================] - 4s 119ms/step - loss: 0.0036\n",
      "Epoch 26/100\n",
      "38/38 [==============================] - 4s 92ms/step - loss: 0.0043\n",
      "Epoch 27/100\n",
      "38/38 [==============================] - 3s 84ms/step - loss: 0.0031\n",
      "Epoch 28/100\n",
      "38/38 [==============================] - 3s 81ms/step - loss: 0.0035\n",
      "Epoch 29/100\n",
      "38/38 [==============================] - 3s 79ms/step - loss: 0.0029\n",
      "Epoch 30/100\n",
      "38/38 [==============================] - 3s 87ms/step - loss: 0.0032\n",
      "Epoch 31/100\n",
      "38/38 [==============================] - 3s 79ms/step - loss: 0.0030\n",
      "Epoch 32/100\n",
      "38/38 [==============================] - 3s 81ms/step - loss: 0.0029\n",
      "Epoch 33/100\n",
      "38/38 [==============================] - 3s 82ms/step - loss: 0.0028\n",
      "Epoch 34/100\n",
      "38/38 [==============================] - 3s 81ms/step - loss: 0.0032\n",
      "Epoch 35/100\n",
      "38/38 [==============================] - 3s 87ms/step - loss: 0.0027\n",
      "Epoch 36/100\n",
      "38/38 [==============================] - 3s 79ms/step - loss: 0.0029\n",
      "Epoch 37/100\n",
      "38/38 [==============================] - 3s 80ms/step - loss: 0.0027\n",
      "Epoch 38/100\n",
      "38/38 [==============================] - 3s 81ms/step - loss: 0.0029\n",
      "Epoch 39/100\n",
      "38/38 [==============================] - 3s 80ms/step - loss: 0.0026\n",
      "Epoch 40/100\n",
      "38/38 [==============================] - 3s 92ms/step - loss: 0.0027: 0s - los\n",
      "Epoch 41/100\n",
      "38/38 [==============================] - 3s 80ms/step - loss: 0.0027\n",
      "Epoch 42/100\n",
      "38/38 [==============================] - 3s 81ms/step - loss: 0.0032\n",
      "Epoch 43/100\n",
      "38/38 [==============================] - 3s 80ms/step - loss: 0.0033\n",
      "Epoch 44/100\n",
      "38/38 [==============================] - 3s 85ms/step - loss: 0.0027\n",
      "Epoch 45/100\n",
      "38/38 [==============================] - 3s 85ms/step - loss: 0.0025\n",
      "Epoch 46/100\n",
      "38/38 [==============================] - 3s 85ms/step - loss: 0.0030\n",
      "Epoch 47/100\n",
      "38/38 [==============================] - 3s 84ms/step - loss: 0.0026\n",
      "Epoch 48/100\n",
      "38/38 [==============================] - 3s 80ms/step - loss: 0.0027\n",
      "Epoch 49/100\n",
      "38/38 [==============================] - 3s 79ms/step - loss: 0.0025\n",
      "Epoch 50/100\n",
      "38/38 [==============================] - 3s 86ms/step - loss: 0.0025\n",
      "Epoch 51/100\n",
      "38/38 [==============================] - 3s 82ms/step - loss: 0.0023\n",
      "Epoch 52/100\n",
      "38/38 [==============================] - 3s 81ms/step - loss: 0.0024\n",
      "Epoch 53/100\n",
      "38/38 [==============================] - 3s 85ms/step - loss: 0.0024\n",
      "Epoch 54/100\n",
      "38/38 [==============================] - 3s 80ms/step - loss: 0.0025\n",
      "Epoch 55/100\n",
      "38/38 [==============================] - 4s 102ms/step - loss: 0.0024\n",
      "Epoch 56/100\n",
      "38/38 [==============================] - 4s 114ms/step - loss: 0.0028\n",
      "Epoch 57/100\n",
      "38/38 [==============================] - 4s 95ms/step - loss: 0.0023\n",
      "Epoch 58/100\n",
      "38/38 [==============================] - 5s 130ms/step - loss: 0.0022\n",
      "Epoch 59/100\n",
      "38/38 [==============================] - 4s 105ms/step - loss: 0.0023\n",
      "Epoch 60/100\n",
      "38/38 [==============================] - 3s 91ms/step - loss: 0.0021\n",
      "Epoch 61/100\n",
      "38/38 [==============================] - 5s 125ms/step - loss: 0.0021\n",
      "Epoch 62/100\n",
      "38/38 [==============================] - 4s 96ms/step - loss: 0.0020\n",
      "Epoch 63/100\n",
      "38/38 [==============================] - 4s 97ms/step - loss: 0.0025\n",
      "Epoch 64/100\n",
      "38/38 [==============================] - 3s 86ms/step - loss: 0.0027\n",
      "Epoch 65/100\n",
      "38/38 [==============================] - 3s 81ms/step - loss: 0.0021\n",
      "Epoch 66/100\n",
      "38/38 [==============================] - 3s 83ms/step - loss: 0.0019\n",
      "Epoch 67/100\n",
      "38/38 [==============================] - 3s 85ms/step - loss: 0.0019\n",
      "Epoch 68/100\n",
      "38/38 [==============================] - 3s 87ms/step - loss: 0.0019: 1s\n",
      "Epoch 69/100\n",
      "38/38 [==============================] - 3s 76ms/step - loss: 0.0020\n",
      "Epoch 70/100\n",
      "38/38 [==============================] - 3s 80ms/step - loss: 0.0020\n",
      "Epoch 71/100\n",
      "38/38 [==============================] - 3s 76ms/step - loss: 0.0020\n",
      "Epoch 72/100\n",
      "38/38 [==============================] - 3s 81ms/step - loss: 0.0017\n",
      "Epoch 73/100\n",
      "38/38 [==============================] - 3s 82ms/step - loss: 0.0019\n",
      "Epoch 74/100\n",
      "38/38 [==============================] - 3s 82ms/step - loss: 0.0018\n",
      "Epoch 75/100\n",
      "38/38 [==============================] - 3s 85ms/step - loss: 0.0020\n",
      "Epoch 76/100\n",
      "38/38 [==============================] - 3s 85ms/step - loss: 0.0016\n",
      "Epoch 77/100\n",
      "38/38 [==============================] - 3s 81ms/step - loss: 0.0019\n",
      "Epoch 78/100\n",
      "38/38 [==============================] - 3s 86ms/step - loss: 0.0016\n",
      "Epoch 79/100\n",
      "38/38 [==============================] - 3s 84ms/step - loss: 0.0018\n",
      "Epoch 80/100\n",
      "38/38 [==============================] - 3s 80ms/step - loss: 0.0020\n",
      "Epoch 81/100\n",
      "38/38 [==============================] - 3s 75ms/step - loss: 0.0018\n",
      "Epoch 82/100\n",
      "38/38 [==============================] - 3s 74ms/step - loss: 0.0019\n",
      "Epoch 83/100\n",
      "38/38 [==============================] - 3s 76ms/step - loss: 0.0017\n",
      "Epoch 84/100\n",
      "38/38 [==============================] - 3s 78ms/step - loss: 0.0016\n",
      "Epoch 85/100\n",
      "38/38 [==============================] - 3s 82ms/step - loss: 0.0016\n",
      "Epoch 86/100\n",
      "38/38 [==============================] - 3s 80ms/step - loss: 0.0017\n",
      "Epoch 87/100\n",
      "38/38 [==============================] - 3s 80ms/step - loss: 0.0017\n",
      "Epoch 88/100\n",
      "38/38 [==============================] - 3s 78ms/step - loss: 0.0017\n",
      "Epoch 89/100\n",
      "38/38 [==============================] - 3s 89ms/step - loss: 0.0017\n",
      "Epoch 90/100\n",
      "38/38 [==============================] - 3s 81ms/step - loss: 0.0016: 0s - loss: \n",
      "Epoch 91/100\n",
      "38/38 [==============================] - 3s 78ms/step - loss: 0.0015\n",
      "Epoch 92/100\n",
      "38/38 [==============================] - 3s 82ms/step - loss: 0.0016\n",
      "Epoch 93/100\n",
      "38/38 [==============================] - 3s 87ms/step - loss: 0.0015\n",
      "Epoch 94/100\n",
      "38/38 [==============================] - 3s 86ms/step - loss: 0.0016\n",
      "Epoch 95/100\n",
      "38/38 [==============================] - 3s 77ms/step - loss: 0.0015\n",
      "Epoch 96/100\n",
      "38/38 [==============================] - 3s 81ms/step - loss: 0.0015\n",
      "Epoch 97/100\n",
      "38/38 [==============================] - 3s 78ms/step - loss: 0.0016\n",
      "Epoch 98/100\n",
      "38/38 [==============================] - 3s 79ms/step - loss: 0.0014\n",
      "Epoch 99/100\n",
      "38/38 [==============================] - 4s 94ms/step - loss: 0.0015\n",
      "Epoch 100/100\n"
     ]
    },
    {
     "name": "stdout",
     "output_type": "stream",
     "text": [
      "38/38 [==============================] - 3s 79ms/step - loss: 0.0015\n"
     ]
    },
    {
     "data": {
      "text/plain": [
       "<keras.callbacks.History at 0x22fe0dbb1f0>"
      ]
     },
     "execution_count": 15,
     "metadata": {},
     "output_type": "execute_result"
    }
   ],
   "source": [
    "regressor.fit(X_train, y_train, epochs = 100, batch_size = 32)"
   ]
  },
  {
   "cell_type": "markdown",
   "metadata": {
    "colab_type": "text",
    "id": "4hRau_lIkrE8"
   },
   "source": [
    "##  Making the predictions and visualising the results"
   ]
  },
  {
   "cell_type": "markdown",
   "metadata": {
    "colab_type": "text",
    "id": "SgJO6qEDksxD"
   },
   "source": [
    "### Getting the real stock price of 2017"
   ]
  },
  {
   "cell_type": "code",
   "execution_count": 20,
   "metadata": {
    "colab": {},
    "colab_type": "code",
    "id": "FmBT2zqukxTz"
   },
   "outputs": [],
   "source": [
    "dataset_test = pd.read_csv('Google_Stock_Price_Test.csv')\n",
    "real_stock_price = dataset_test.iloc[:, 1:2].values"
   ]
  },
  {
   "cell_type": "markdown",
   "metadata": {
    "colab_type": "text",
    "id": "GrvrLblxkz42"
   },
   "source": [
    "### Getting the predicted stock price of 2017"
   ]
  },
  {
   "cell_type": "code",
   "execution_count": 21,
   "metadata": {
    "colab": {},
    "colab_type": "code",
    "id": "emikTvUpk3Ck"
   },
   "outputs": [],
   "source": [
    "dataset_total = pd.concat((dataset_train['Open'], dataset_test['Open']), axis = 0)\n",
    "inputs = dataset_total[len(dataset_total) - len(dataset_test) - 60:].values\n",
    "inputs = inputs.reshape(-1,1)\n",
    "inputs = sc.transform(inputs)\n",
    "X_test = []\n",
    "for i in range(60, 80):\n",
    "    X_test.append(inputs[i-60:i, 0])\n",
    "X_test = np.array(X_test)\n",
    "X_test = np.reshape(X_test, (X_test.shape[0], X_test.shape[1], 1))\n",
    "predicted_stock_price = regressor.predict(X_test)\n",
    "predicted_stock_price = sc.inverse_transform(predicted_stock_price)"
   ]
  },
  {
   "cell_type": "markdown",
   "metadata": {
    "colab_type": "text",
    "id": "iFTNs3YHk6FQ"
   },
   "source": [
    "### Visualising the results"
   ]
  },
  {
   "cell_type": "code",
   "execution_count": 22,
   "metadata": {
    "colab": {
     "base_uri": "https://localhost:8080/",
     "height": 295
    },
    "colab_type": "code",
    "id": "8OUI8U49k9tH",
    "outputId": "db0ed15e-071b-4bae-955e-0eda3df95238"
   },
   "outputs": [
    {
     "data": {
      "image/png": "[encoded data removed]",
      "text/plain": [
       "<Figure size 432x288 with 1 Axes>"
      ]
     },
     "metadata": {
      "needs_background": "light"
     },
     "output_type": "display_data"
    }
   ],
   "source": [
    "plt.plot(real_stock_price, color = 'red', label = 'Real Google Stock Price')\n",
    "plt.plot(predicted_stock_price, color = 'blue', label = 'Predicted Google Stock Price')\n",
    "plt.title('Google Stock Price Prediction')\n",
    "plt.xlabel('Time')\n",
    "plt.ylabel('Google Stock Price')\n",
    "plt.legend()\n",
    "plt.show()"
   ]
  },
  {
   "cell_type": "code",
   "execution_count": 23,
   "metadata": {},
   "outputs": [],
   "source": [
    "#Saving the model\n",
    "regressor.save('regressor.hdf5')"
   ]
  },
  {
   "cell_type": "code",
   "execution_count": 26,
   "metadata": {},
   "outputs": [],
   "source": [
    "#loading the model\n",
    "import tensorflow as tf\n",
    "loaded_model = tf.keras.models.load_model('regressor.hdf5')"
   ]
  },
  {
   "cell_type": "code",
   "execution_count": 27,
   "metadata": {},
   "outputs": [],
   "source": [
    "#saving the scaled model\n",
    "import pickle\n",
    "filename = 'trained_model_scaled.sav'\n",
    "pickle.dump(sc,open(filename,'wb'))"
   ]
  },
  {
   "cell_type": "code",
   "execution_count": 28,
   "metadata": {},
   "outputs": [],
   "source": [
    "#Loading the scaled model\n",
    "loaded_model_scaled = pickle.load(open('trained_model_scaled.sav','rb'))"
   ]
  },
  {
   "cell_type": "code",
   "execution_count": 30,
   "metadata": {},
   "outputs": [],
   "source": [
    "def scaledata(data):\n",
    "    from sklearn.preprocessing import MinMaxScaler\n",
    "    scaler = MinMaxScaler(feature_range=(0,1))\n",
    "    data_target_scaled = scaler.fit_transform(np.array(data).reshape(-1,1))\n",
    "    #plot_scaled = pd.DataFrame(data_target_scaled).plot()\n",
    "    print(data.shape)\n",
    "    return data_target_scaled, scaler"
   ]
  },
  {
   "cell_type": "code",
   "execution_count": 35,
   "metadata": {},
   "outputs": [],
   "source": [
    "def futurePrediciton1D(curr_data,start=\"2021-02-1\",end=\"2021-06-19\"):\n",
    "    '''\n",
    "    '''\n",
    "    x_data = curr_data[len(curr_data)-60:]\n",
    "    curr_scaled = scaledata(x_data)[0]\n",
    "    scaler = scaledata(curr_data)[1]\n",
    "    \n",
    "    #flatten into list\n",
    "    x_data = list(curr_scaled.flatten())\n",
    "    #convert into 3D\n",
    "    x_data = np.array(x_data)\n",
    "    x_data = x_data.reshape(1,len(x_data),1)\n",
    "    #x_data = x_data[len(x_data)-120:]\n",
    "    #x_data = tf.expand_dims(x_data,axis=1)\n",
    "    \n",
    "    #Predict\n",
    "    nextDay = loaded_model.predict(x=x_data)\n",
    "    nextDay = scaler.inverse_transform(nextDay.reshape(-1,1))\n",
    "\n",
    "    nextDay = nextDay[-1][0]\n",
    "    print(\"Prediction: {}\".format(nextDay))\n",
    "    \n",
    "    #convert into dataframe again\n",
    "    curr_data = pd.DataFrame(curr_data)\n",
    "    curr_data.reset_index(inplace=True)\n",
    "    open_cl = curr_data[['Open']]\n",
    "    \n",
    "    #concatenate new value\n",
    "    open_cl.loc[len(open_cl.index)] = [nextDay]\n",
    "    \n",
    "    return open_cl\n"
   ]
  },
  {
   "cell_type": "code",
   "execution_count": 36,
   "metadata": {},
   "outputs": [],
   "source": [
    "#Reading the training dataset\n",
    "import numpy as np\n",
    "import pandas as pd\n",
    "import matplotlib.pyplot as plt\n",
    "import tensorflow as tf\n",
    "%matplotlib inline\n",
    "dataset_train = pd.read_csv('D:/Users/dell1/Desktop/CERTIFICATES/Deep learning/RNN/Part+3+-+Recurrent+Neural+Networks/Part 3 - Recurrent Neural Networks/Google_Stock_Price_Train.csv')"
   ]
  },
  {
   "cell_type": "code",
   "execution_count": 37,
   "metadata": {},
   "outputs": [
    {
     "data": {
      "text/html": [
       "<div>\n",
       "<style scoped>\n",
       "    .dataframe tbody tr th:only-of-type {\n",
       "        vertical-align: middle;\n",
       "    }\n",
       "\n",
       "    .dataframe tbody tr th {\n",
       "        vertical-align: top;\n",
       "    }\n",
       "\n",
       "    .dataframe thead th {\n",
       "        text-align: right;\n",
       "    }\n",
       "</style>\n",
       "<table border=\"1\" class=\"dataframe\">\n",
       "  <thead>\n",
       "    <tr style=\"text-align: right;\">\n",
       "      <th></th>\n",
       "      <th>Date</th>\n",
       "      <th>Open</th>\n",
       "      <th>High</th>\n",
       "      <th>Low</th>\n",
       "      <th>Close</th>\n",
       "      <th>Volume</th>\n",
       "    </tr>\n",
       "  </thead>\n",
       "  <tbody>\n",
       "    <tr>\n",
       "      <th>1253</th>\n",
       "      <td>12/23/2016</td>\n",
       "      <td>790.90</td>\n",
       "      <td>792.74</td>\n",
       "      <td>787.28</td>\n",
       "      <td>789.91</td>\n",
       "      <td>623,400</td>\n",
       "    </tr>\n",
       "    <tr>\n",
       "      <th>1254</th>\n",
       "      <td>12/27/2016</td>\n",
       "      <td>790.68</td>\n",
       "      <td>797.86</td>\n",
       "      <td>787.66</td>\n",
       "      <td>791.55</td>\n",
       "      <td>789,100</td>\n",
       "    </tr>\n",
       "    <tr>\n",
       "      <th>1255</th>\n",
       "      <td>12/28/2016</td>\n",
       "      <td>793.70</td>\n",
       "      <td>794.23</td>\n",
       "      <td>783.20</td>\n",
       "      <td>785.05</td>\n",
       "      <td>1,153,800</td>\n",
       "    </tr>\n",
       "    <tr>\n",
       "      <th>1256</th>\n",
       "      <td>12/29/2016</td>\n",
       "      <td>783.33</td>\n",
       "      <td>785.93</td>\n",
       "      <td>778.92</td>\n",
       "      <td>782.79</td>\n",
       "      <td>744,300</td>\n",
       "    </tr>\n",
       "    <tr>\n",
       "      <th>1257</th>\n",
       "      <td>12/30/2016</td>\n",
       "      <td>782.75</td>\n",
       "      <td>782.78</td>\n",
       "      <td>770.41</td>\n",
       "      <td>771.82</td>\n",
       "      <td>1,770,000</td>\n",
       "    </tr>\n",
       "  </tbody>\n",
       "</table>\n",
       "</div>"
      ],
      "text/plain": [
       "            Date    Open    High     Low   Close     Volume\n",
       "1253  12/23/2016  790.90  792.74  787.28  789.91    623,400\n",
       "1254  12/27/2016  790.68  797.86  787.66  791.55    789,100\n",
       "1255  12/28/2016  793.70  794.23  783.20  785.05  1,153,800\n",
       "1256  12/29/2016  783.33  785.93  778.92  782.79    744,300\n",
       "1257  12/30/2016  782.75  782.78  770.41  771.82  1,770,000"
      ]
     },
     "execution_count": 37,
     "metadata": {},
     "output_type": "execute_result"
    }
   ],
   "source": [
    "train_set = dataset_train.iloc[:,1:2].values\n",
    "dataset_train.tail()"
   ]
  },
  {
   "cell_type": "code",
   "execution_count": 38,
   "metadata": {},
   "outputs": [
    {
     "name": "stdout",
     "output_type": "stream",
     "text": [
      "(60,)\n",
      "(1258,)\n",
      "Prediction: 609.7439575195312\n"
     ]
    },
    {
     "name": "stderr",
     "output_type": "stream",
     "text": [
      "C:\\Users\\dell1\\anaconda3\\lib\\site-packages\\pandas\\core\\indexing.py:692: SettingWithCopyWarning: \n",
      "A value is trying to be set on a copy of a slice from a DataFrame\n",
      "\n",
      "See the caveats in the documentation: https://pandas.pydata.org/pandas-docs/stable/user_guide/indexing.html#returning-a-view-versus-a-copy\n",
      "  iloc._setitem_with_indexer(indexer, value, self.name)\n"
     ]
    },
    {
     "data": {
      "text/html": [
       "<div>\n",
       "<style scoped>\n",
       "    .dataframe tbody tr th:only-of-type {\n",
       "        vertical-align: middle;\n",
       "    }\n",
       "\n",
       "    .dataframe tbody tr th {\n",
       "        vertical-align: top;\n",
       "    }\n",
       "\n",
       "    .dataframe thead th {\n",
       "        text-align: right;\n",
       "    }\n",
       "</style>\n",
       "<table border=\"1\" class=\"dataframe\">\n",
       "  <thead>\n",
       "    <tr style=\"text-align: right;\">\n",
       "      <th></th>\n",
       "      <th>Open</th>\n",
       "    </tr>\n",
       "  </thead>\n",
       "  <tbody>\n",
       "    <tr>\n",
       "      <th>0</th>\n",
       "      <td>325.250000</td>\n",
       "    </tr>\n",
       "    <tr>\n",
       "      <th>1</th>\n",
       "      <td>331.270000</td>\n",
       "    </tr>\n",
       "    <tr>\n",
       "      <th>2</th>\n",
       "      <td>329.830000</td>\n",
       "    </tr>\n",
       "    <tr>\n",
       "      <th>3</th>\n",
       "      <td>328.340000</td>\n",
       "    </tr>\n",
       "    <tr>\n",
       "      <th>4</th>\n",
       "      <td>322.040000</td>\n",
       "    </tr>\n",
       "    <tr>\n",
       "      <th>...</th>\n",
       "      <td>...</td>\n",
       "    </tr>\n",
       "    <tr>\n",
       "      <th>1254</th>\n",
       "      <td>790.680000</td>\n",
       "    </tr>\n",
       "    <tr>\n",
       "      <th>1255</th>\n",
       "      <td>793.700000</td>\n",
       "    </tr>\n",
       "    <tr>\n",
       "      <th>1256</th>\n",
       "      <td>783.330000</td>\n",
       "    </tr>\n",
       "    <tr>\n",
       "      <th>1257</th>\n",
       "      <td>782.750000</td>\n",
       "    </tr>\n",
       "    <tr>\n",
       "      <th>1258</th>\n",
       "      <td>609.743958</td>\n",
       "    </tr>\n",
       "  </tbody>\n",
       "</table>\n",
       "<p>1259 rows × 1 columns</p>\n",
       "</div>"
      ],
      "text/plain": [
       "            Open\n",
       "0     325.250000\n",
       "1     331.270000\n",
       "2     329.830000\n",
       "3     328.340000\n",
       "4     322.040000\n",
       "...          ...\n",
       "1254  790.680000\n",
       "1255  793.700000\n",
       "1256  783.330000\n",
       "1257  782.750000\n",
       "1258  609.743958\n",
       "\n",
       "[1259 rows x 1 columns]"
      ]
     },
     "execution_count": 38,
     "metadata": {},
     "output_type": "execute_result"
    }
   ],
   "source": [
    "futurePrediciton1D(dataset_train['Open'],start='2012-03-01', end='2017-01-01')"
   ]
  },
  {
   "cell_type": "code",
   "execution_count": 40,
   "metadata": {},
   "outputs": [],
   "source": [
    "loaded_model = tf.keras.models.load_model('regressor.hdf5')"
   ]
  },
  {
   "cell_type": "code",
   "execution_count": 41,
   "metadata": {},
   "outputs": [],
   "source": [
    "d = pd.read_csv('D:/Users/dell1/Downloads/GOOG.csv')"
   ]
  },
  {
   "cell_type": "code",
   "execution_count": 42,
   "metadata": {},
   "outputs": [
    {
     "name": "stdout",
     "output_type": "stream",
     "text": [
      "(60,)\n",
      "(250,)\n",
      "Prediction: 113.88468170166016\n"
     ]
    },
    {
     "name": "stderr",
     "output_type": "stream",
     "text": [
      "C:\\Users\\dell1\\anaconda3\\lib\\site-packages\\pandas\\core\\indexing.py:692: SettingWithCopyWarning: \n",
      "A value is trying to be set on a copy of a slice from a DataFrame\n",
      "\n",
      "See the caveats in the documentation: https://pandas.pydata.org/pandas-docs/stable/user_guide/indexing.html#returning-a-view-versus-a-copy\n",
      "  iloc._setitem_with_indexer(indexer, value, self.name)\n"
     ]
    },
    {
     "data": {
      "text/html": [
       "<div>\n",
       "<style scoped>\n",
       "    .dataframe tbody tr th:only-of-type {\n",
       "        vertical-align: middle;\n",
       "    }\n",
       "\n",
       "    .dataframe tbody tr th {\n",
       "        vertical-align: top;\n",
       "    }\n",
       "\n",
       "    .dataframe thead th {\n",
       "        text-align: right;\n",
       "    }\n",
       "</style>\n",
       "<table border=\"1\" class=\"dataframe\">\n",
       "  <thead>\n",
       "    <tr style=\"text-align: right;\">\n",
       "      <th></th>\n",
       "      <th>Open</th>\n",
       "    </tr>\n",
       "  </thead>\n",
       "  <tbody>\n",
       "    <tr>\n",
       "      <th>0</th>\n",
       "      <td>107.514503</td>\n",
       "    </tr>\n",
       "    <tr>\n",
       "      <th>1</th>\n",
       "      <td>114.092003</td>\n",
       "    </tr>\n",
       "    <tr>\n",
       "      <th>2</th>\n",
       "      <td>116.008003</td>\n",
       "    </tr>\n",
       "    <tr>\n",
       "      <th>3</th>\n",
       "      <td>117.550003</td>\n",
       "    </tr>\n",
       "    <tr>\n",
       "      <th>4</th>\n",
       "      <td>118.650002</td>\n",
       "    </tr>\n",
       "    <tr>\n",
       "      <th>...</th>\n",
       "      <td>...</td>\n",
       "    </tr>\n",
       "    <tr>\n",
       "      <th>246</th>\n",
       "      <td>117.839996</td>\n",
       "    </tr>\n",
       "    <tr>\n",
       "      <th>247</th>\n",
       "      <td>117.959999</td>\n",
       "    </tr>\n",
       "    <tr>\n",
       "      <th>248</th>\n",
       "      <td>120.089996</td>\n",
       "    </tr>\n",
       "    <tr>\n",
       "      <th>249</th>\n",
       "      <td>121.099998</td>\n",
       "    </tr>\n",
       "    <tr>\n",
       "      <th>250</th>\n",
       "      <td>113.884682</td>\n",
       "    </tr>\n",
       "  </tbody>\n",
       "</table>\n",
       "<p>251 rows × 1 columns</p>\n",
       "</div>"
      ],
      "text/plain": [
       "           Open\n",
       "0    107.514503\n",
       "1    114.092003\n",
       "2    116.008003\n",
       "3    117.550003\n",
       "4    118.650002\n",
       "..          ...\n",
       "246  117.839996\n",
       "247  117.959999\n",
       "248  120.089996\n",
       "249  121.099998\n",
       "250  113.884682\n",
       "\n",
       "[251 rows x 1 columns]"
      ]
     },
     "execution_count": 42,
     "metadata": {},
     "output_type": "execute_result"
    }
   ],
   "source": [
    "futurePrediciton1D(d['Open'],start='2012-03-01', end='2017-01-01')"
   ]
  },
  {
   "cell_type": "code",
   "execution_count": null,
   "metadata": {},
   "outputs": [],
   "source": []
  }
 ],
 "metadata": {
  "colab": {
   "collapsed_sections": [],
   "name": "recurrent_neural_network.ipynb",
   "provenance": []
  },
  "kernelspec": {
   "display_name": "Python 3",
   "language": "python",
   "name": "python3"
  },
  "language_info": {
   "codemirror_mode": {
    "name": "ipython",
    "version": 3
   },
   "file_extension": ".py",
   "mimetype": "text/x-python",
   "name": "python",
   "nbconvert_exporter": "python",
   "pygments_lexer": "ipython3",
   "version": "3.8.8"
  }
 },
 "nbformat": 4,
 "nbformat_minor": 1
}
