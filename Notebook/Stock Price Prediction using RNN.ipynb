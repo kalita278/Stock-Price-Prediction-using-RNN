{
 "cells": [
  {
   "cell_type": "code",
   "execution_count": 1,
   "id": "6ca97813",
   "metadata": {},
   "outputs": [],
   "source": [
    "import numpy as np\n",
    "import pandas as pd\n",
    "import matplotlib.pyplot as plt\n",
    "import tensorflow as tf\n",
    "%matplotlib inline"
   ]
  },
  {
   "cell_type": "markdown",
   "id": "151b930c",
   "metadata": {},
   "source": [
    "# Data Preprocessing"
   ]
  },
  {
   "cell_type": "code",
   "execution_count": 2,
   "id": "76d4ece9",
   "metadata": {},
   "outputs": [],
   "source": [
    "#Reading the training dataset\n",
    "dataset_train = pd.read_csv('D:/Users/dell1/Desktop/CERTIFICATES/Deep learning/RNN/Part+3+-+Recurrent+Neural+Networks/Part 3 - Recurrent Neural Networks/Google_Stock_Price_Train.csv')"
   ]
  },
  {
   "cell_type": "code",
   "execution_count": 3,
   "id": "a982e209",
   "metadata": {},
   "outputs": [
    {
     "data": {
      "text/html": [
       "<div>\n",
       "<style scoped>\n",
       "    .dataframe tbody tr th:only-of-type {\n",
       "        vertical-align: middle;\n",
       "    }\n",
       "\n",
       "    .dataframe tbody tr th {\n",
       "        vertical-align: top;\n",
       "    }\n",
       "\n",
       "    .dataframe thead th {\n",
       "        text-align: right;\n",
       "    }\n",
       "</style>\n",
       "<table border=\"1\" class=\"dataframe\">\n",
       "  <thead>\n",
       "    <tr style=\"text-align: right;\">\n",
       "      <th></th>\n",
       "      <th>Date</th>\n",
       "      <th>Open</th>\n",
       "      <th>High</th>\n",
       "      <th>Low</th>\n",
       "      <th>Close</th>\n",
       "      <th>Volume</th>\n",
       "    </tr>\n",
       "  </thead>\n",
       "  <tbody>\n",
       "    <tr>\n",
       "      <th>0</th>\n",
       "      <td>1/3/2012</td>\n",
       "      <td>325.25</td>\n",
       "      <td>332.83</td>\n",
       "      <td>324.97</td>\n",
       "      <td>663.59</td>\n",
       "      <td>7,380,500</td>\n",
       "    </tr>\n",
       "    <tr>\n",
       "      <th>1</th>\n",
       "      <td>1/4/2012</td>\n",
       "      <td>331.27</td>\n",
       "      <td>333.87</td>\n",
       "      <td>329.08</td>\n",
       "      <td>666.45</td>\n",
       "      <td>5,749,400</td>\n",
       "    </tr>\n",
       "    <tr>\n",
       "      <th>2</th>\n",
       "      <td>1/5/2012</td>\n",
       "      <td>329.83</td>\n",
       "      <td>330.75</td>\n",
       "      <td>326.89</td>\n",
       "      <td>657.21</td>\n",
       "      <td>6,590,300</td>\n",
       "    </tr>\n",
       "    <tr>\n",
       "      <th>3</th>\n",
       "      <td>1/6/2012</td>\n",
       "      <td>328.34</td>\n",
       "      <td>328.77</td>\n",
       "      <td>323.68</td>\n",
       "      <td>648.24</td>\n",
       "      <td>5,405,900</td>\n",
       "    </tr>\n",
       "    <tr>\n",
       "      <th>4</th>\n",
       "      <td>1/9/2012</td>\n",
       "      <td>322.04</td>\n",
       "      <td>322.29</td>\n",
       "      <td>309.46</td>\n",
       "      <td>620.76</td>\n",
       "      <td>11,688,800</td>\n",
       "    </tr>\n",
       "  </tbody>\n",
       "</table>\n",
       "</div>"
      ],
      "text/plain": [
       "       Date    Open    High     Low   Close      Volume\n",
       "0  1/3/2012  325.25  332.83  324.97  663.59   7,380,500\n",
       "1  1/4/2012  331.27  333.87  329.08  666.45   5,749,400\n",
       "2  1/5/2012  329.83  330.75  326.89  657.21   6,590,300\n",
       "3  1/6/2012  328.34  328.77  323.68  648.24   5,405,900\n",
       "4  1/9/2012  322.04  322.29  309.46  620.76  11,688,800"
      ]
     },
     "execution_count": 3,
     "metadata": {},
     "output_type": "execute_result"
    }
   ],
   "source": [
    "#Checking the first 5 rows\n",
    "dataset_train.head()"
   ]
  },
  {
   "cell_type": "code",
   "execution_count": 4,
   "id": "b3508f02",
   "metadata": {},
   "outputs": [
    {
     "data": {
      "text/plain": [
       "Date      0\n",
       "Open      0\n",
       "High      0\n",
       "Low       0\n",
       "Close     0\n",
       "Volume    0\n",
       "dtype: int64"
      ]
     },
     "execution_count": 4,
     "metadata": {},
     "output_type": "execute_result"
    }
   ],
   "source": [
    "#Checking the null values\n",
    "dataset_train.isnull().sum()"
   ]
  },
  {
   "cell_type": "code",
   "execution_count": 5,
   "id": "9d5d1753",
   "metadata": {},
   "outputs": [],
   "source": [
    "#Converting the data to array\n",
    "train_set = dataset_train.iloc[:,1:2].values"
   ]
  },
  {
   "cell_type": "code",
   "execution_count": 6,
   "id": "ec10c5d4",
   "metadata": {},
   "outputs": [],
   "source": [
    "#Scaling the data\n",
    "from sklearn.preprocessing import MinMaxScaler\n",
    "sc = MinMaxScaler()\n",
    "train_set = sc.fit_transform(train_set)"
   ]
  },
  {
   "cell_type": "code",
   "execution_count": 7,
   "id": "3bb53134",
   "metadata": {},
   "outputs": [],
   "source": [
    "#Creating a data structure with 120 timesteps and 1 output\n",
    "x_train = []\n",
    "y_train = []\n",
    "for i in range(120,1258):\n",
    "    x_train.append(train_set[i-120:i,0])\n",
    "    y_train.append(train_set[i,0])\n",
    "    \n",
    "x_train, y_train = np.array(x_train), np.array(y_train)   "
   ]
  },
  {
   "cell_type": "code",
   "execution_count": 8,
   "id": "951aa554",
   "metadata": {},
   "outputs": [],
   "source": [
    "#Reshaping x_train\n",
    "x_train = np.reshape(x_train,(x_train.shape[0],x_train.shape[1],1))"
   ]
  },
  {
   "cell_type": "markdown",
   "id": "10e52e45",
   "metadata": {},
   "source": [
    "# Building the RNN"
   ]
  },
  {
   "cell_type": "code",
   "execution_count": 9,
   "id": "178d8d08",
   "metadata": {},
   "outputs": [],
   "source": [
    "#Initialize the RNN\n",
    "regressor = tf.keras.models.Sequential()"
   ]
  },
  {
   "cell_type": "code",
   "execution_count": 10,
   "id": "8b4208a2",
   "metadata": {},
   "outputs": [],
   "source": [
    "#Adding the 1st LSTM layer and dropout regularisation\n",
    "regressor.add(tf.keras.layers.LSTM(units = 100,return_sequences = True,input_shape = (x_train.shape[1],1)))\n",
    "regressor.add(tf.keras.layers.Dropout(0.2))"
   ]
  },
  {
   "cell_type": "code",
   "execution_count": 11,
   "id": "3dc15289",
   "metadata": {},
   "outputs": [],
   "source": [
    "#Adding the 2nd LSTM layer and dropout regularisation\n",
    "regressor.add(tf.keras.layers.LSTM(units = 100,return_sequences = True))\n",
    "regressor.add(tf.keras.layers.Dropout(0.2))"
   ]
  },
  {
   "cell_type": "code",
   "execution_count": 12,
   "id": "47bb871a",
   "metadata": {},
   "outputs": [],
   "source": [
    "#Adding the 3rd LSTM layer and dropout regularisation\n",
    "regressor.add(tf.keras.layers.LSTM(units = 100,return_sequences = True))\n",
    "regressor.add(tf.keras.layers.Dropout(0.2))"
   ]
  },
  {
   "cell_type": "code",
   "execution_count": 13,
   "id": "76906756",
   "metadata": {},
   "outputs": [],
   "source": [
    "#Adding the 4th LSTM layer and dropout regularisation\n",
    "regressor.add(tf.keras.layers.LSTM(units = 100,return_sequences = True))\n",
    "regressor.add(tf.keras.layers.Dropout(0.2))"
   ]
  },
  {
   "cell_type": "code",
   "execution_count": 14,
   "id": "2bf23137",
   "metadata": {},
   "outputs": [],
   "source": [
    "#Adding the output layer\n",
    "regressor.add(tf.keras.layers.Dense(units=1))"
   ]
  },
  {
   "cell_type": "code",
   "execution_count": 15,
   "id": "0d89f54c",
   "metadata": {},
   "outputs": [],
   "source": [
    "#Compiling the RNN\n",
    "regressor.compile(optimizer='adam',loss='mean_squared_error')"
   ]
  },
  {
   "cell_type": "code",
   "execution_count": 16,
   "id": "d52d374d",
   "metadata": {},
   "outputs": [
    {
     "name": "stdout",
     "output_type": "stream",
     "text": [
      "Epoch 1/100\n",
      "36/36 [==============================] - 24s 428ms/step - loss: 0.1003\n",
      "Epoch 2/100\n",
      "36/36 [==============================] - 15s 431ms/step - loss: 0.0734\n",
      "Epoch 3/100\n",
      "36/36 [==============================] - 15s 415ms/step - loss: 0.0733\n",
      "Epoch 4/100\n",
      "36/36 [==============================] - 15s 408ms/step - loss: 0.0721\n",
      "Epoch 5/100\n",
      "36/36 [==============================] - 13s 362ms/step - loss: 0.0710\n",
      "Epoch 6/100\n",
      "36/36 [==============================] - 15s 428ms/step - loss: 0.0702\n",
      "Epoch 7/100\n",
      "36/36 [==============================] - 16s 435ms/step - loss: 0.0714\n",
      "Epoch 8/100\n",
      "36/36 [==============================] - 16s 448ms/step - loss: 0.0707\n",
      "Epoch 9/100\n",
      "36/36 [==============================] - 12s 345ms/step - loss: 0.0703\n",
      "Epoch 10/100\n",
      "36/36 [==============================] - 17s 475ms/step - loss: 0.0705\n",
      "Epoch 11/100\n",
      "36/36 [==============================] - 19s 532ms/step - loss: 0.0694\n",
      "Epoch 12/100\n",
      "36/36 [==============================] - 20s 544ms/step - loss: 0.0689\n",
      "Epoch 13/100\n",
      "36/36 [==============================] - 19s 534ms/step - loss: 0.0690\n",
      "Epoch 14/100\n",
      "36/36 [==============================] - 20s 547ms/step - loss: 0.0689\n",
      "Epoch 15/100\n",
      "36/36 [==============================] - 19s 526ms/step - loss: 0.0684\n",
      "Epoch 16/100\n",
      "36/36 [==============================] - 19s 534ms/step - loss: 0.0684\n",
      "Epoch 17/100\n",
      "36/36 [==============================] - 19s 530ms/step - loss: 0.0684\n",
      "Epoch 18/100\n",
      "36/36 [==============================] - 18s 507ms/step - loss: 0.0682\n",
      "Epoch 19/100\n",
      "36/36 [==============================] - 19s 515ms/step - loss: 0.0681\n",
      "Epoch 20/100\n",
      "36/36 [==============================] - 19s 541ms/step - loss: 0.0686\n",
      "Epoch 21/100\n",
      "36/36 [==============================] - 20s 558ms/step - loss: 0.0690\n",
      "Epoch 22/100\n",
      "36/36 [==============================] - 19s 515ms/step - loss: 0.0681\n",
      "Epoch 23/100\n",
      "36/36 [==============================] - 20s 545ms/step - loss: 0.0688\n",
      "Epoch 24/100\n",
      "36/36 [==============================] - 18s 513ms/step - loss: 0.0681\n",
      "Epoch 25/100\n",
      "36/36 [==============================] - 15s 426ms/step - loss: 0.0679\n",
      "Epoch 26/100\n",
      "36/36 [==============================] - 15s 403ms/step - loss: 0.0678\n",
      "Epoch 27/100\n",
      "36/36 [==============================] - 14s 396ms/step - loss: 0.0682\n",
      "Epoch 28/100\n",
      "36/36 [==============================] - 15s 413ms/step - loss: 0.0678\n",
      "Epoch 29/100\n",
      "36/36 [==============================] - 15s 414ms/step - loss: 0.0681\n",
      "Epoch 30/100\n",
      "36/36 [==============================] - 15s 403ms/step - loss: 0.0680\n",
      "Epoch 31/100\n",
      "36/36 [==============================] - 14s 391ms/step - loss: 0.0676\n",
      "Epoch 32/100\n",
      "36/36 [==============================] - 15s 417ms/step - loss: 0.0678\n",
      "Epoch 33/100\n",
      "36/36 [==============================] - 15s 404ms/step - loss: 0.0686\n",
      "Epoch 34/100\n",
      "36/36 [==============================] - 15s 410ms/step - loss: 0.0681\n",
      "Epoch 35/100\n",
      "36/36 [==============================] - 14s 399ms/step - loss: 0.0681\n",
      "Epoch 36/100\n",
      "36/36 [==============================] - 14s 386ms/step - loss: 0.0672\n",
      "Epoch 37/100\n",
      "36/36 [==============================] - 14s 393ms/step - loss: 0.0678\n",
      "Epoch 38/100\n",
      "36/36 [==============================] - 15s 405ms/step - loss: 0.0674\n",
      "Epoch 39/100\n",
      "36/36 [==============================] - 15s 406ms/step - loss: 0.0677\n",
      "Epoch 40/100\n",
      "36/36 [==============================] - 14s 398ms/step - loss: 0.0680\n",
      "Epoch 41/100\n",
      "36/36 [==============================] - 14s 391ms/step - loss: 0.0677\n",
      "Epoch 42/100\n",
      "36/36 [==============================] - 15s 410ms/step - loss: 0.0684\n",
      "Epoch 43/100\n",
      "36/36 [==============================] - 15s 425ms/step - loss: 0.0680\n",
      "Epoch 44/100\n",
      "36/36 [==============================] - 15s 411ms/step - loss: 0.0675\n",
      "Epoch 45/100\n",
      "36/36 [==============================] - 15s 419ms/step - loss: 0.0674\n",
      "Epoch 46/100\n",
      "36/36 [==============================] - 15s 430ms/step - loss: 0.0675\n",
      "Epoch 47/100\n",
      "36/36 [==============================] - 14s 395ms/step - loss: 0.0673\n",
      "Epoch 48/100\n",
      "36/36 [==============================] - 14s 386ms/step - loss: 0.0673\n",
      "Epoch 49/100\n",
      "36/36 [==============================] - 14s 399ms/step - loss: 0.0677\n",
      "Epoch 50/100\n",
      "36/36 [==============================] - 14s 397ms/step - loss: 0.0674\n",
      "Epoch 51/100\n",
      "36/36 [==============================] - 15s 412ms/step - loss: 0.0674\n",
      "Epoch 52/100\n",
      "36/36 [==============================] - 14s 400ms/step - loss: 0.0674\n",
      "Epoch 53/100\n",
      "36/36 [==============================] - 14s 397ms/step - loss: 0.0675\n",
      "Epoch 54/100\n",
      "36/36 [==============================] - 15s 412ms/step - loss: 0.0673\n",
      "Epoch 55/100\n",
      "36/36 [==============================] - 15s 413ms/step - loss: 0.0675\n",
      "Epoch 56/100\n",
      "36/36 [==============================] - 15s 409ms/step - loss: 0.0677\n",
      "Epoch 57/100\n",
      "36/36 [==============================] - 15s 411ms/step - loss: 0.0674\n",
      "Epoch 58/100\n",
      "36/36 [==============================] - 15s 410ms/step - loss: 0.0674\n",
      "Epoch 59/100\n",
      "36/36 [==============================] - 14s 399ms/step - loss: 0.0677\n",
      "Epoch 60/100\n",
      "36/36 [==============================] - 15s 409ms/step - loss: 0.0674\n",
      "Epoch 61/100\n",
      "36/36 [==============================] - 15s 404ms/step - loss: 0.0673\n",
      "Epoch 62/100\n",
      "36/36 [==============================] - 14s 384ms/step - loss: 0.0672\n",
      "Epoch 63/100\n",
      "36/36 [==============================] - 15s 422ms/step - loss: 0.0673\n",
      "Epoch 64/100\n",
      "36/36 [==============================] - 17s 467ms/step - loss: 0.0676\n",
      "Epoch 65/100\n",
      "36/36 [==============================] - 19s 525ms/step - loss: 0.0674\n",
      "Epoch 66/100\n",
      "36/36 [==============================] - 16s 452ms/step - loss: 0.0673\n",
      "Epoch 67/100\n",
      "36/36 [==============================] - 14s 397ms/step - loss: 0.0681\n",
      "Epoch 68/100\n",
      "36/36 [==============================] - 15s 414ms/step - loss: 0.0672\n",
      "Epoch 69/100\n",
      "36/36 [==============================] - 16s 436ms/step - loss: 0.0671\n",
      "Epoch 70/100\n",
      "36/36 [==============================] - 15s 415ms/step - loss: 0.0677\n",
      "Epoch 71/100\n",
      "36/36 [==============================] - 18s 491ms/step - loss: 0.0673\n",
      "Epoch 72/100\n",
      "36/36 [==============================] - 45s 1s/step - loss: 0.0673\n",
      "Epoch 73/100\n",
      "36/36 [==============================] - 21s 558ms/step - loss: 0.0671\n",
      "Epoch 74/100\n",
      "36/36 [==============================] - 14s 379ms/step - loss: 0.0678\n",
      "Epoch 75/100\n",
      "36/36 [==============================] - 14s 389ms/step - loss: 0.0675\n",
      "Epoch 76/100\n",
      "36/36 [==============================] - 14s 376ms/step - loss: 0.0672\n",
      "Epoch 77/100\n",
      "36/36 [==============================] - 13s 369ms/step - loss: 0.0675\n",
      "Epoch 78/100\n",
      "36/36 [==============================] - 14s 376ms/step - loss: 0.0673\n",
      "Epoch 79/100\n",
      "36/36 [==============================] - 14s 376ms/step - loss: 0.0673\n",
      "Epoch 80/100\n",
      "36/36 [==============================] - 13s 374ms/step - loss: 0.0675\n",
      "Epoch 81/100\n",
      "36/36 [==============================] - 13s 373ms/step - loss: 0.0678\n",
      "Epoch 82/100\n",
      "36/36 [==============================] - 14s 385ms/step - loss: 0.0672\n",
      "Epoch 83/100\n",
      "36/36 [==============================] - 14s 387ms/step - loss: 0.0673\n",
      "Epoch 84/100\n",
      "36/36 [==============================] - 13s 365ms/step - loss: 0.0672\n",
      "Epoch 85/100\n",
      "36/36 [==============================] - 14s 379ms/step - loss: 0.0673\n",
      "Epoch 86/100\n",
      "36/36 [==============================] - 14s 379ms/step - loss: 0.0674\n",
      "Epoch 87/100\n",
      "36/36 [==============================] - 14s 378ms/step - loss: 0.0672\n",
      "Epoch 88/100\n",
      "36/36 [==============================] - 17s 472ms/step - loss: 0.0672\n",
      "Epoch 89/100\n",
      "36/36 [==============================] - 13s 373ms/step - loss: 0.0672\n",
      "Epoch 90/100\n",
      "36/36 [==============================] - 14s 382ms/step - loss: 0.0672\n",
      "Epoch 91/100\n",
      "36/36 [==============================] - 14s 396ms/step - loss: 0.0675\n",
      "Epoch 92/100\n",
      "36/36 [==============================] - 14s 375ms/step - loss: 0.0671\n",
      "Epoch 93/100\n",
      "36/36 [==============================] - 13s 372ms/step - loss: 0.0674\n",
      "Epoch 94/100\n",
      "36/36 [==============================] - 14s 377ms/step - loss: 0.0674\n",
      "Epoch 95/100\n",
      "36/36 [==============================] - 14s 374ms/step - loss: 0.0671\n",
      "Epoch 96/100\n",
      "36/36 [==============================] - 13s 374ms/step - loss: 0.0675\n",
      "Epoch 97/100\n",
      "36/36 [==============================] - 14s 380ms/step - loss: 0.0671\n",
      "Epoch 98/100\n"
     ]
    },
    {
     "name": "stdout",
     "output_type": "stream",
     "text": [
      "36/36 [==============================] - 13s 372ms/step - loss: 0.0670\n",
      "Epoch 99/100\n",
      "36/36 [==============================] - 13s 372ms/step - loss: 0.0676\n",
      "Epoch 100/100\n",
      "36/36 [==============================] - 13s 374ms/step - loss: 0.0675\n"
     ]
    },
    {
     "data": {
      "text/plain": [
       "<keras.callbacks.History at 0x191d53bb580>"
      ]
     },
     "execution_count": 16,
     "metadata": {},
     "output_type": "execute_result"
    }
   ],
   "source": [
    "#Fitting the RNN into the training set\n",
    "regressor.fit(x_train,y_train,epochs=100,batch_size=32)"
   ]
  },
  {
   "cell_type": "markdown",
   "id": "6a97e421",
   "metadata": {},
   "source": [
    "# Making the prediction and Visualizing the results"
   ]
  },
  {
   "cell_type": "code",
   "execution_count": 38,
   "id": "367025c4",
   "metadata": {},
   "outputs": [],
   "source": [
    "#getting the testing data\n",
    "dataset_test = pd.read_csv('D:/Users/dell1/Desktop/CERTIFICATES/Deep learning/RNN/Part+3+-+Recurrent+Neural+Networks/Part 3 - Recurrent Neural Networks/Google_Stock_Price_Test.csv')"
   ]
  },
  {
   "cell_type": "code",
   "execution_count": 39,
   "id": "7b2494cd",
   "metadata": {},
   "outputs": [],
   "source": [
    "test_set = dataset_test.iloc[:,1:2].values"
   ]
  },
  {
   "cell_type": "code",
   "execution_count": 40,
   "id": "660c3682",
   "metadata": {},
   "outputs": [
    {
     "data": {
      "text/plain": [
       "array([[[0.52025104],\n",
       "        [0.49902317],\n",
       "        [0.50479245],\n",
       "        ...,\n",
       "        [0.5064489 ],\n",
       "        [0.5064255 ],\n",
       "        [0.50638914]],\n",
       "\n",
       "       [[0.52023864],\n",
       "        [0.49903193],\n",
       "        [0.5047915 ],\n",
       "        ...,\n",
       "        [0.5064255 ],\n",
       "        [0.50638914],\n",
       "        [0.5063393 ]],\n",
       "\n",
       "       [[0.5202639 ],\n",
       "        [0.49904004],\n",
       "        [0.5048284 ],\n",
       "        ...,\n",
       "        [0.50638914],\n",
       "        [0.5063393 ],\n",
       "        [0.50632954]],\n",
       "\n",
       "       ...,\n",
       "\n",
       "       [[0.52055633],\n",
       "        [0.4995796 ],\n",
       "        [0.50562274],\n",
       "        ...,\n",
       "        [0.5069033 ],\n",
       "        [0.5070162 ],\n",
       "        [0.5071554 ]],\n",
       "\n",
       "       [[0.52060616],\n",
       "        [0.49961928],\n",
       "        [0.5056696 ],\n",
       "        ...,\n",
       "        [0.5070162 ],\n",
       "        [0.5071554 ],\n",
       "        [0.50726974]],\n",
       "\n",
       "       [[0.5206007 ],\n",
       "        [0.49962687],\n",
       "        [0.5056852 ],\n",
       "        ...,\n",
       "        [0.5071554 ],\n",
       "        [0.50726974],\n",
       "        [0.5072811 ]]], dtype=float32)"
      ]
     },
     "execution_count": 40,
     "metadata": {},
     "output_type": "execute_result"
    }
   ],
   "source": [
    "regressor.predict(X_test)"
   ]
  },
  {
   "cell_type": "code",
   "execution_count": 47,
   "id": "e48d6b89",
   "metadata": {},
   "outputs": [],
   "source": [
    "#Getting the predicted stock price\n",
    "dataset_total = pd.concat((dataset_train['Open'],dataset_test['Open']),axis=0)\n",
    "inputs = dataset_total[len(dataset_total)-len(dataset_test)-120:].values\n",
    "inputs = inputs.reshape(-1,1)\n",
    "inputs = sc.transform(inputs)\n",
    "x_test = []\n",
    "for i in range(120,140):\n",
    "    x_test.append(inputs[i-120:i,0])\n",
    "x_test = np.array(x_test)"
   ]
  },
  {
   "cell_type": "code",
   "execution_count": 48,
   "id": "2d21e399",
   "metadata": {},
   "outputs": [],
   "source": [
    "#Reshaping x-test\n",
    "x_test = np.reshape(x_test, (x_test.shape[0], x_test.shape[1], 1))"
   ]
  },
  {
   "cell_type": "code",
   "execution_count": 50,
   "id": "98800a31",
   "metadata": {},
   "outputs": [],
   "source": [
    "#Making the prediction\n",
    "predicted_stock_price = regressor.predict(x_test)"
   ]
  },
  {
   "cell_type": "code",
   "execution_count": 52,
   "id": "5115f38f",
   "metadata": {},
   "outputs": [
    {
     "ename": "ValueError",
     "evalue": "Found array with dim 3. None expected <= 2.",
     "output_type": "error",
     "traceback": [
      "\u001b[1;31m---------------------------------------------------------------------------\u001b[0m",
      "\u001b[1;31mValueError\u001b[0m                                Traceback (most recent call last)",
      "\u001b[1;32m<ipython-input-52-eaa6291c31da>\u001b[0m in \u001b[0;36m<module>\u001b[1;34m\u001b[0m\n\u001b[0;32m      1\u001b[0m \u001b[1;31m#Inverse scalig the output\u001b[0m\u001b[1;33m\u001b[0m\u001b[1;33m\u001b[0m\u001b[1;33m\u001b[0m\u001b[0m\n\u001b[1;32m----> 2\u001b[1;33m \u001b[0mpredicted_stock_price\u001b[0m \u001b[1;33m=\u001b[0m \u001b[0msc\u001b[0m\u001b[1;33m.\u001b[0m\u001b[0minverse_transform\u001b[0m\u001b[1;33m(\u001b[0m\u001b[0mpredicted_stock_price\u001b[0m\u001b[1;33m)\u001b[0m\u001b[1;33m\u001b[0m\u001b[1;33m\u001b[0m\u001b[0m\n\u001b[0m",
      "\u001b[1;32m~\\anaconda3\\lib\\site-packages\\sklearn\\preprocessing\\_data.py\u001b[0m in \u001b[0;36minverse_transform\u001b[1;34m(self, X)\u001b[0m\n\u001b[0;32m    535\u001b[0m         \u001b[0mcheck_is_fitted\u001b[0m\u001b[1;33m(\u001b[0m\u001b[0mself\u001b[0m\u001b[1;33m)\u001b[0m\u001b[1;33m\u001b[0m\u001b[1;33m\u001b[0m\u001b[0m\n\u001b[0;32m    536\u001b[0m \u001b[1;33m\u001b[0m\u001b[0m\n\u001b[1;32m--> 537\u001b[1;33m         X = check_array(\n\u001b[0m\u001b[0;32m    538\u001b[0m             \u001b[0mX\u001b[0m\u001b[1;33m,\u001b[0m \u001b[0mcopy\u001b[0m\u001b[1;33m=\u001b[0m\u001b[0mself\u001b[0m\u001b[1;33m.\u001b[0m\u001b[0mcopy\u001b[0m\u001b[1;33m,\u001b[0m \u001b[0mdtype\u001b[0m\u001b[1;33m=\u001b[0m\u001b[0mFLOAT_DTYPES\u001b[0m\u001b[1;33m,\u001b[0m \u001b[0mforce_all_finite\u001b[0m\u001b[1;33m=\u001b[0m\u001b[1;34m\"allow-nan\"\u001b[0m\u001b[1;33m\u001b[0m\u001b[1;33m\u001b[0m\u001b[0m\n\u001b[0;32m    539\u001b[0m         )\n",
      "\u001b[1;32m~\\anaconda3\\lib\\site-packages\\sklearn\\utils\\validation.py\u001b[0m in \u001b[0;36mcheck_array\u001b[1;34m(array, accept_sparse, accept_large_sparse, dtype, order, copy, force_all_finite, ensure_2d, allow_nd, ensure_min_samples, ensure_min_features, estimator, input_name)\u001b[0m\n\u001b[0;32m    913\u001b[0m             )\n\u001b[0;32m    914\u001b[0m         \u001b[1;32mif\u001b[0m \u001b[1;32mnot\u001b[0m \u001b[0mallow_nd\u001b[0m \u001b[1;32mand\u001b[0m \u001b[0marray\u001b[0m\u001b[1;33m.\u001b[0m\u001b[0mndim\u001b[0m \u001b[1;33m>=\u001b[0m \u001b[1;36m3\u001b[0m\u001b[1;33m:\u001b[0m\u001b[1;33m\u001b[0m\u001b[1;33m\u001b[0m\u001b[0m\n\u001b[1;32m--> 915\u001b[1;33m             raise ValueError(\n\u001b[0m\u001b[0;32m    916\u001b[0m                 \u001b[1;34m\"Found array with dim %d. %s expected <= 2.\"\u001b[0m\u001b[1;33m\u001b[0m\u001b[1;33m\u001b[0m\u001b[0m\n\u001b[0;32m    917\u001b[0m                 \u001b[1;33m%\u001b[0m \u001b[1;33m(\u001b[0m\u001b[0marray\u001b[0m\u001b[1;33m.\u001b[0m\u001b[0mndim\u001b[0m\u001b[1;33m,\u001b[0m \u001b[0mestimator_name\u001b[0m\u001b[1;33m)\u001b[0m\u001b[1;33m\u001b[0m\u001b[1;33m\u001b[0m\u001b[0m\n",
      "\u001b[1;31mValueError\u001b[0m: Found array with dim 3. None expected <= 2."
     ]
    }
   ],
   "source": [
    "#Inverse scalig the output\n",
    "predicted_stock_price = sc.inverse_transform(predicted_stock_price)"
   ]
  },
  {
   "cell_type": "code",
   "execution_count": 79,
   "id": "0f8fb06d",
   "metadata": {},
   "outputs": [
    {
     "ename": "ValueError",
     "evalue": "x and y can be no greater than 2-D, but have shapes (20,) and (20, 120, 1)",
     "output_type": "error",
     "traceback": [
      "\u001b[1;31m---------------------------------------------------------------------------\u001b[0m",
      "\u001b[1;31mValueError\u001b[0m                                Traceback (most recent call last)",
      "\u001b[1;32m<ipython-input-79-627ee460a49a>\u001b[0m in \u001b[0;36m<module>\u001b[1;34m\u001b[0m\n\u001b[0;32m      2\u001b[0m \u001b[0mplt\u001b[0m\u001b[1;33m.\u001b[0m\u001b[0mfigure\u001b[0m\u001b[1;33m(\u001b[0m\u001b[0mfigsize\u001b[0m\u001b[1;33m=\u001b[0m\u001b[1;33m(\u001b[0m\u001b[1;36m20\u001b[0m\u001b[1;33m,\u001b[0m\u001b[1;36m8\u001b[0m\u001b[1;33m)\u001b[0m\u001b[1;33m)\u001b[0m\u001b[1;33m\u001b[0m\u001b[1;33m\u001b[0m\u001b[0m\n\u001b[0;32m      3\u001b[0m \u001b[0mplt\u001b[0m\u001b[1;33m.\u001b[0m\u001b[0mplot\u001b[0m\u001b[1;33m(\u001b[0m\u001b[0mtest_set\u001b[0m\u001b[1;33m,\u001b[0m \u001b[0mcolor\u001b[0m \u001b[1;33m=\u001b[0m\u001b[1;34m'r'\u001b[0m\u001b[1;33m,\u001b[0m \u001b[0mlabel\u001b[0m \u001b[1;33m=\u001b[0m \u001b[1;34m'Real google stock price'\u001b[0m\u001b[1;33m)\u001b[0m\u001b[1;33m\u001b[0m\u001b[1;33m\u001b[0m\u001b[0m\n\u001b[1;32m----> 4\u001b[1;33m \u001b[0mplt\u001b[0m\u001b[1;33m.\u001b[0m\u001b[0mplot\u001b[0m\u001b[1;33m(\u001b[0m\u001b[0mpredicted_stock_price\u001b[0m\u001b[1;33m,\u001b[0m \u001b[0mcolor\u001b[0m \u001b[1;33m=\u001b[0m \u001b[1;34m'b'\u001b[0m\u001b[1;33m,\u001b[0m \u001b[0mlabel\u001b[0m \u001b[1;33m=\u001b[0m \u001b[1;34m'Predicted google stock price'\u001b[0m\u001b[1;33m)\u001b[0m\u001b[1;33m\u001b[0m\u001b[1;33m\u001b[0m\u001b[0m\n\u001b[0m\u001b[0;32m      5\u001b[0m \u001b[0mplt\u001b[0m\u001b[1;33m.\u001b[0m\u001b[0mtitle\u001b[0m\u001b[1;33m(\u001b[0m\u001b[1;34m'Google Stock Price Prediction'\u001b[0m\u001b[1;33m)\u001b[0m\u001b[1;33m\u001b[0m\u001b[1;33m\u001b[0m\u001b[0m\n\u001b[0;32m      6\u001b[0m \u001b[0mplt\u001b[0m\u001b[1;33m.\u001b[0m\u001b[0mxlabel\u001b[0m\u001b[1;33m(\u001b[0m\u001b[1;34m'Time'\u001b[0m\u001b[1;33m)\u001b[0m\u001b[1;33m\u001b[0m\u001b[1;33m\u001b[0m\u001b[0m\n",
      "\u001b[1;32m~\\anaconda3\\lib\\site-packages\\matplotlib\\pyplot.py\u001b[0m in \u001b[0;36mplot\u001b[1;34m(scalex, scaley, data, *args, **kwargs)\u001b[0m\n\u001b[0;32m   2838\u001b[0m \u001b[1;33m@\u001b[0m\u001b[0m_copy_docstring_and_deprecators\u001b[0m\u001b[1;33m(\u001b[0m\u001b[0mAxes\u001b[0m\u001b[1;33m.\u001b[0m\u001b[0mplot\u001b[0m\u001b[1;33m)\u001b[0m\u001b[1;33m\u001b[0m\u001b[1;33m\u001b[0m\u001b[0m\n\u001b[0;32m   2839\u001b[0m \u001b[1;32mdef\u001b[0m \u001b[0mplot\u001b[0m\u001b[1;33m(\u001b[0m\u001b[1;33m*\u001b[0m\u001b[0margs\u001b[0m\u001b[1;33m,\u001b[0m \u001b[0mscalex\u001b[0m\u001b[1;33m=\u001b[0m\u001b[1;32mTrue\u001b[0m\u001b[1;33m,\u001b[0m \u001b[0mscaley\u001b[0m\u001b[1;33m=\u001b[0m\u001b[1;32mTrue\u001b[0m\u001b[1;33m,\u001b[0m \u001b[0mdata\u001b[0m\u001b[1;33m=\u001b[0m\u001b[1;32mNone\u001b[0m\u001b[1;33m,\u001b[0m \u001b[1;33m**\u001b[0m\u001b[0mkwargs\u001b[0m\u001b[1;33m)\u001b[0m\u001b[1;33m:\u001b[0m\u001b[1;33m\u001b[0m\u001b[1;33m\u001b[0m\u001b[0m\n\u001b[1;32m-> 2840\u001b[1;33m     return gca().plot(\n\u001b[0m\u001b[0;32m   2841\u001b[0m         \u001b[1;33m*\u001b[0m\u001b[0margs\u001b[0m\u001b[1;33m,\u001b[0m \u001b[0mscalex\u001b[0m\u001b[1;33m=\u001b[0m\u001b[0mscalex\u001b[0m\u001b[1;33m,\u001b[0m \u001b[0mscaley\u001b[0m\u001b[1;33m=\u001b[0m\u001b[0mscaley\u001b[0m\u001b[1;33m,\u001b[0m\u001b[1;33m\u001b[0m\u001b[1;33m\u001b[0m\u001b[0m\n\u001b[0;32m   2842\u001b[0m         **({\"data\": data} if data is not None else {}), **kwargs)\n",
      "\u001b[1;32m~\\anaconda3\\lib\\site-packages\\matplotlib\\axes\\_axes.py\u001b[0m in \u001b[0;36mplot\u001b[1;34m(self, scalex, scaley, data, *args, **kwargs)\u001b[0m\n\u001b[0;32m   1741\u001b[0m         \"\"\"\n\u001b[0;32m   1742\u001b[0m         \u001b[0mkwargs\u001b[0m \u001b[1;33m=\u001b[0m \u001b[0mcbook\u001b[0m\u001b[1;33m.\u001b[0m\u001b[0mnormalize_kwargs\u001b[0m\u001b[1;33m(\u001b[0m\u001b[0mkwargs\u001b[0m\u001b[1;33m,\u001b[0m \u001b[0mmlines\u001b[0m\u001b[1;33m.\u001b[0m\u001b[0mLine2D\u001b[0m\u001b[1;33m)\u001b[0m\u001b[1;33m\u001b[0m\u001b[1;33m\u001b[0m\u001b[0m\n\u001b[1;32m-> 1743\u001b[1;33m         \u001b[0mlines\u001b[0m \u001b[1;33m=\u001b[0m \u001b[1;33m[\u001b[0m\u001b[1;33m*\u001b[0m\u001b[0mself\u001b[0m\u001b[1;33m.\u001b[0m\u001b[0m_get_lines\u001b[0m\u001b[1;33m(\u001b[0m\u001b[1;33m*\u001b[0m\u001b[0margs\u001b[0m\u001b[1;33m,\u001b[0m \u001b[0mdata\u001b[0m\u001b[1;33m=\u001b[0m\u001b[0mdata\u001b[0m\u001b[1;33m,\u001b[0m \u001b[1;33m**\u001b[0m\u001b[0mkwargs\u001b[0m\u001b[1;33m)\u001b[0m\u001b[1;33m]\u001b[0m\u001b[1;33m\u001b[0m\u001b[1;33m\u001b[0m\u001b[0m\n\u001b[0m\u001b[0;32m   1744\u001b[0m         \u001b[1;32mfor\u001b[0m \u001b[0mline\u001b[0m \u001b[1;32min\u001b[0m \u001b[0mlines\u001b[0m\u001b[1;33m:\u001b[0m\u001b[1;33m\u001b[0m\u001b[1;33m\u001b[0m\u001b[0m\n\u001b[0;32m   1745\u001b[0m             \u001b[0mself\u001b[0m\u001b[1;33m.\u001b[0m\u001b[0madd_line\u001b[0m\u001b[1;33m(\u001b[0m\u001b[0mline\u001b[0m\u001b[1;33m)\u001b[0m\u001b[1;33m\u001b[0m\u001b[1;33m\u001b[0m\u001b[0m\n",
      "\u001b[1;32m~\\anaconda3\\lib\\site-packages\\matplotlib\\axes\\_base.py\u001b[0m in \u001b[0;36m__call__\u001b[1;34m(self, data, *args, **kwargs)\u001b[0m\n\u001b[0;32m    271\u001b[0m                 \u001b[0mthis\u001b[0m \u001b[1;33m+=\u001b[0m \u001b[0margs\u001b[0m\u001b[1;33m[\u001b[0m\u001b[1;36m0\u001b[0m\u001b[1;33m]\u001b[0m\u001b[1;33m,\u001b[0m\u001b[1;33m\u001b[0m\u001b[1;33m\u001b[0m\u001b[0m\n\u001b[0;32m    272\u001b[0m                 \u001b[0margs\u001b[0m \u001b[1;33m=\u001b[0m \u001b[0margs\u001b[0m\u001b[1;33m[\u001b[0m\u001b[1;36m1\u001b[0m\u001b[1;33m:\u001b[0m\u001b[1;33m]\u001b[0m\u001b[1;33m\u001b[0m\u001b[1;33m\u001b[0m\u001b[0m\n\u001b[1;32m--> 273\u001b[1;33m             \u001b[1;32myield\u001b[0m \u001b[1;32mfrom\u001b[0m \u001b[0mself\u001b[0m\u001b[1;33m.\u001b[0m\u001b[0m_plot_args\u001b[0m\u001b[1;33m(\u001b[0m\u001b[0mthis\u001b[0m\u001b[1;33m,\u001b[0m \u001b[0mkwargs\u001b[0m\u001b[1;33m)\u001b[0m\u001b[1;33m\u001b[0m\u001b[1;33m\u001b[0m\u001b[0m\n\u001b[0m\u001b[0;32m    274\u001b[0m \u001b[1;33m\u001b[0m\u001b[0m\n\u001b[0;32m    275\u001b[0m     \u001b[1;32mdef\u001b[0m \u001b[0mget_next_color\u001b[0m\u001b[1;33m(\u001b[0m\u001b[0mself\u001b[0m\u001b[1;33m)\u001b[0m\u001b[1;33m:\u001b[0m\u001b[1;33m\u001b[0m\u001b[1;33m\u001b[0m\u001b[0m\n",
      "\u001b[1;32m~\\anaconda3\\lib\\site-packages\\matplotlib\\axes\\_base.py\u001b[0m in \u001b[0;36m_plot_args\u001b[1;34m(self, tup, kwargs)\u001b[0m\n\u001b[0;32m    400\u001b[0m                              f\"have shapes {x.shape} and {y.shape}\")\n\u001b[0;32m    401\u001b[0m         \u001b[1;32mif\u001b[0m \u001b[0mx\u001b[0m\u001b[1;33m.\u001b[0m\u001b[0mndim\u001b[0m \u001b[1;33m>\u001b[0m \u001b[1;36m2\u001b[0m \u001b[1;32mor\u001b[0m \u001b[0my\u001b[0m\u001b[1;33m.\u001b[0m\u001b[0mndim\u001b[0m \u001b[1;33m>\u001b[0m \u001b[1;36m2\u001b[0m\u001b[1;33m:\u001b[0m\u001b[1;33m\u001b[0m\u001b[1;33m\u001b[0m\u001b[0m\n\u001b[1;32m--> 402\u001b[1;33m             raise ValueError(f\"x and y can be no greater than 2-D, but have \"\n\u001b[0m\u001b[0;32m    403\u001b[0m                              f\"shapes {x.shape} and {y.shape}\")\n\u001b[0;32m    404\u001b[0m         \u001b[1;32mif\u001b[0m \u001b[0mx\u001b[0m\u001b[1;33m.\u001b[0m\u001b[0mndim\u001b[0m \u001b[1;33m==\u001b[0m \u001b[1;36m1\u001b[0m\u001b[1;33m:\u001b[0m\u001b[1;33m\u001b[0m\u001b[1;33m\u001b[0m\u001b[0m\n",
      "\u001b[1;31mValueError\u001b[0m: x and y can be no greater than 2-D, but have shapes (20,) and (20, 120, 1)"
     ]
    },
    {
     "data": {
      "image/png": "[encoded data removed]",
      "text/plain": [
       "<Figure size 1440x576 with 1 Axes>"
      ]
     },
     "metadata": {
      "needs_background": "light"
     },
     "output_type": "display_data"
    }
   ],
   "source": [
    "#Visualizing the performance through graph\n",
    "plt.figure(figsize=(20,8))\n",
    "plt.plot(test_set, color ='r', label = 'Real google stock price')\n",
    "plt.plot(predicted_stock_price, color = 'b', label = 'Predicted google stock price')\n",
    "plt.title('Google Stock Price Prediction')\n",
    "plt.xlabel('Time')\n",
    "plt.ylabel('Google stock price')\n",
    "plt.legend()\n",
    "plt.show()"
   ]
  },
  {
   "cell_type": "code",
   "execution_count": 66,
   "id": "7868f9fa",
   "metadata": {},
   "outputs": [],
   "source": [
    "#Saving the model\n",
    "regressor.save('regressor.hdf5')"
   ]
  },
  {
   "cell_type": "code",
   "execution_count": 67,
   "id": "000c60d9",
   "metadata": {},
   "outputs": [],
   "source": [
    "#loading the model\n",
    "loaded_model = tf.keras.models.load_model('regressor.hdf5')"
   ]
  },
  {
   "cell_type": "code",
   "execution_count": 68,
   "id": "87899df9",
   "metadata": {},
   "outputs": [],
   "source": [
    "#saving the scaled model\n",
    "import pickle\n",
    "filename = 'trained_model_scaled.sav'\n",
    "pickle.dump(sc,open(filename,'wb'))"
   ]
  },
  {
   "cell_type": "code",
   "execution_count": 31,
   "id": "576b0554",
   "metadata": {},
   "outputs": [],
   "source": [
    "#Loading the scaled model\n",
    "loaded_model_scaled = pickle.load(open('trained_model_scaled.sav','rb'))"
   ]
  },
  {
   "cell_type": "code",
   "execution_count": 7,
   "id": "10b1a80a",
   "metadata": {},
   "outputs": [],
   "source": [
    "def scaledata(data):\n",
    "    from sklearn.preprocessing import MinMaxScaler\n",
    "    scaler = MinMaxScaler(feature_range=(0,1))\n",
    "    data_target_scaled = scaler.fit_transform(np.array(data).reshape(-1,1))\n",
    "    #plot_scaled = pd.DataFrame(data_target_scaled).plot()\n",
    "    print(data.shape)\n",
    "    return data_target_scaled, scaler"
   ]
  },
  {
   "cell_type": "code",
   "execution_count": 33,
   "id": "702c69eb",
   "metadata": {},
   "outputs": [],
   "source": [
    "\n",
    "def futurePrediciton1D(curr_data,start=\"2021-02-1\",end=\"2021-06-19\"):\n",
    "    '''\n",
    "    '''\n",
    "    x_data = curr_data[len(curr_data)-120:]\n",
    "    curr_scaled = scaledata(x_data)[0]\n",
    "    scaler = scaledata(curr_data)[1]\n",
    "    \n",
    "    #flatten into list\n",
    "    x_data = list(curr_scaled.flatten())\n",
    "    #convert into 3D\n",
    "    x_data = np.array(x_data)\n",
    "    x_data = x_data.reshape(1,len(x_data),1)\n",
    "    #x_data = x_data[len(x_data)-120:]\n",
    "    #x_data = tf.expand_dims(x_data,axis=1)\n",
    "    \n",
    "    #Predict\n",
    "    nextDay = loaded_model.predict(x=x_data)\n",
    "    nextDay = scaler.inverse_transform(nextDay.reshape(-1,1))\n",
    "\n",
    "    nextDay = nextDay[-1][0]\n",
    "    print(\"Prediction: {}\".format(nextDay))\n",
    "    \n",
    "    #convert into dataframe again\n",
    "    curr_data = pd.DataFrame(curr_data)\n",
    "    curr_data.reset_index(inplace=True)\n",
    "    open_cl = curr_data[['Open']]\n",
    "    \n",
    "    #concatenate new value\n",
    "    open_cl.loc[len(open_cl.index)] = [nextDay]\n",
    "    \n",
    "    return open_cl\n"
   ]
  },
  {
   "cell_type": "code",
   "execution_count": 34,
   "id": "88170166",
   "metadata": {},
   "outputs": [],
   "source": [
    "#Reading the training dataset\n",
    "import numpy as np\n",
    "import pandas as pd\n",
    "import matplotlib.pyplot as plt\n",
    "import tensorflow as tf\n",
    "%matplotlib inline\n",
    "dataset_train = pd.read_csv('D:/Users/dell1/Desktop/CERTIFICATES/Deep learning/RNN/Part+3+-+Recurrent+Neural+Networks/Part 3 - Recurrent Neural Networks/Google_Stock_Price_Train.csv')"
   ]
  },
  {
   "cell_type": "code",
   "execution_count": 35,
   "id": "80b889da",
   "metadata": {},
   "outputs": [
    {
     "data": {
      "text/html": [
       "<div>\n",
       "<style scoped>\n",
       "    .dataframe tbody tr th:only-of-type {\n",
       "        vertical-align: middle;\n",
       "    }\n",
       "\n",
       "    .dataframe tbody tr th {\n",
       "        vertical-align: top;\n",
       "    }\n",
       "\n",
       "    .dataframe thead th {\n",
       "        text-align: right;\n",
       "    }\n",
       "</style>\n",
       "<table border=\"1\" class=\"dataframe\">\n",
       "  <thead>\n",
       "    <tr style=\"text-align: right;\">\n",
       "      <th></th>\n",
       "      <th>Date</th>\n",
       "      <th>Open</th>\n",
       "      <th>High</th>\n",
       "      <th>Low</th>\n",
       "      <th>Close</th>\n",
       "      <th>Volume</th>\n",
       "    </tr>\n",
       "  </thead>\n",
       "  <tbody>\n",
       "    <tr>\n",
       "      <th>1253</th>\n",
       "      <td>12/23/2016</td>\n",
       "      <td>790.90</td>\n",
       "      <td>792.74</td>\n",
       "      <td>787.28</td>\n",
       "      <td>789.91</td>\n",
       "      <td>623,400</td>\n",
       "    </tr>\n",
       "    <tr>\n",
       "      <th>1254</th>\n",
       "      <td>12/27/2016</td>\n",
       "      <td>790.68</td>\n",
       "      <td>797.86</td>\n",
       "      <td>787.66</td>\n",
       "      <td>791.55</td>\n",
       "      <td>789,100</td>\n",
       "    </tr>\n",
       "    <tr>\n",
       "      <th>1255</th>\n",
       "      <td>12/28/2016</td>\n",
       "      <td>793.70</td>\n",
       "      <td>794.23</td>\n",
       "      <td>783.20</td>\n",
       "      <td>785.05</td>\n",
       "      <td>1,153,800</td>\n",
       "    </tr>\n",
       "    <tr>\n",
       "      <th>1256</th>\n",
       "      <td>12/29/2016</td>\n",
       "      <td>783.33</td>\n",
       "      <td>785.93</td>\n",
       "      <td>778.92</td>\n",
       "      <td>782.79</td>\n",
       "      <td>744,300</td>\n",
       "    </tr>\n",
       "    <tr>\n",
       "      <th>1257</th>\n",
       "      <td>12/30/2016</td>\n",
       "      <td>782.75</td>\n",
       "      <td>782.78</td>\n",
       "      <td>770.41</td>\n",
       "      <td>771.82</td>\n",
       "      <td>1,770,000</td>\n",
       "    </tr>\n",
       "  </tbody>\n",
       "</table>\n",
       "</div>"
      ],
      "text/plain": [
       "            Date    Open    High     Low   Close     Volume\n",
       "1253  12/23/2016  790.90  792.74  787.28  789.91    623,400\n",
       "1254  12/27/2016  790.68  797.86  787.66  791.55    789,100\n",
       "1255  12/28/2016  793.70  794.23  783.20  785.05  1,153,800\n",
       "1256  12/29/2016  783.33  785.93  778.92  782.79    744,300\n",
       "1257  12/30/2016  782.75  782.78  770.41  771.82  1,770,000"
      ]
     },
     "execution_count": 35,
     "metadata": {},
     "output_type": "execute_result"
    }
   ],
   "source": [
    "train_set = dataset_train.iloc[:,1:2].values\n",
    "dataset_train.tail()"
   ]
  },
  {
   "cell_type": "code",
   "execution_count": 38,
   "id": "3fe1d514",
   "metadata": {},
   "outputs": [
    {
     "name": "stdout",
     "output_type": "stream",
     "text": [
      "(120,)\n",
      "(1258,)\n",
      "Prediction: 642.11474609375\n"
     ]
    },
    {
     "name": "stderr",
     "output_type": "stream",
     "text": [
      "C:\\Users\\dell1\\anaconda3\\lib\\site-packages\\pandas\\core\\indexing.py:692: SettingWithCopyWarning: \n",
      "A value is trying to be set on a copy of a slice from a DataFrame\n",
      "\n",
      "See the caveats in the documentation: https://pandas.pydata.org/pandas-docs/stable/user_guide/indexing.html#returning-a-view-versus-a-copy\n",
      "  iloc._setitem_with_indexer(indexer, value, self.name)\n"
     ]
    },
    {
     "data": {
      "text/html": [
       "<div>\n",
       "<style scoped>\n",
       "    .dataframe tbody tr th:only-of-type {\n",
       "        vertical-align: middle;\n",
       "    }\n",
       "\n",
       "    .dataframe tbody tr th {\n",
       "        vertical-align: top;\n",
       "    }\n",
       "\n",
       "    .dataframe thead th {\n",
       "        text-align: right;\n",
       "    }\n",
       "</style>\n",
       "<table border=\"1\" class=\"dataframe\">\n",
       "  <thead>\n",
       "    <tr style=\"text-align: right;\">\n",
       "      <th></th>\n",
       "      <th>Open</th>\n",
       "    </tr>\n",
       "  </thead>\n",
       "  <tbody>\n",
       "    <tr>\n",
       "      <th>0</th>\n",
       "      <td>325.250000</td>\n",
       "    </tr>\n",
       "    <tr>\n",
       "      <th>1</th>\n",
       "      <td>331.270000</td>\n",
       "    </tr>\n",
       "    <tr>\n",
       "      <th>2</th>\n",
       "      <td>329.830000</td>\n",
       "    </tr>\n",
       "    <tr>\n",
       "      <th>3</th>\n",
       "      <td>328.340000</td>\n",
       "    </tr>\n",
       "    <tr>\n",
       "      <th>4</th>\n",
       "      <td>322.040000</td>\n",
       "    </tr>\n",
       "    <tr>\n",
       "      <th>...</th>\n",
       "      <td>...</td>\n",
       "    </tr>\n",
       "    <tr>\n",
       "      <th>1254</th>\n",
       "      <td>790.680000</td>\n",
       "    </tr>\n",
       "    <tr>\n",
       "      <th>1255</th>\n",
       "      <td>793.700000</td>\n",
       "    </tr>\n",
       "    <tr>\n",
       "      <th>1256</th>\n",
       "      <td>783.330000</td>\n",
       "    </tr>\n",
       "    <tr>\n",
       "      <th>1257</th>\n",
       "      <td>782.750000</td>\n",
       "    </tr>\n",
       "    <tr>\n",
       "      <th>1258</th>\n",
       "      <td>642.114746</td>\n",
       "    </tr>\n",
       "  </tbody>\n",
       "</table>\n",
       "<p>1259 rows × 1 columns</p>\n",
       "</div>"
      ],
      "text/plain": [
       "            Open\n",
       "0     325.250000\n",
       "1     331.270000\n",
       "2     329.830000\n",
       "3     328.340000\n",
       "4     322.040000\n",
       "...          ...\n",
       "1254  790.680000\n",
       "1255  793.700000\n",
       "1256  783.330000\n",
       "1257  782.750000\n",
       "1258  642.114746\n",
       "\n",
       "[1259 rows x 1 columns]"
      ]
     },
     "execution_count": 38,
     "metadata": {},
     "output_type": "execute_result"
    }
   ],
   "source": [
    "futurePrediciton1D(dataset_train['Open'],start='2012-03-01', end='2017-01-01')"
   ]
  },
  {
   "cell_type": "code",
   "execution_count": 41,
   "id": "343aaaf3",
   "metadata": {},
   "outputs": [
    {
     "data": {
      "text/plain": [
       "0       325.25\n",
       "1       331.27\n",
       "2       329.83\n",
       "3       328.34\n",
       "4       322.04\n",
       "         ...  \n",
       "1253    790.90\n",
       "1254    790.68\n",
       "1255    793.70\n",
       "1256    783.33\n",
       "1257    782.75\n",
       "Name: Open, Length: 1258, dtype: float64"
      ]
     },
     "execution_count": 41,
     "metadata": {},
     "output_type": "execute_result"
    }
   ],
   "source": [
    "dataset_train['Open']"
   ]
  },
  {
   "cell_type": "code",
   "execution_count": 24,
   "id": "1a29b07e",
   "metadata": {},
   "outputs": [],
   "source": [
    "loaded_model = tf.keras.models.load_model('regressor.hdf5')"
   ]
  },
  {
   "cell_type": "code",
   "execution_count": 42,
   "id": "0dd640b6",
   "metadata": {},
   "outputs": [
    {
     "name": "stdout",
     "output_type": "stream",
     "text": [
      "(1258,)\n"
     ]
    },
    {
     "data": {
      "text/plain": [
       "array([[0.08581368],\n",
       "       [0.09701243],\n",
       "       [0.09433366],\n",
       "       ...,\n",
       "       [0.95725128],\n",
       "       [0.93796041],\n",
       "       [0.93688146]])"
      ]
     },
     "execution_count": 42,
     "metadata": {},
     "output_type": "execute_result"
    }
   ],
   "source": [
    "scaledata(dataset_train['Open'])[0]"
   ]
  },
  {
   "cell_type": "code",
   "execution_count": 30,
   "id": "68f09ed0",
   "metadata": {},
   "outputs": [
    {
     "name": "stdout",
     "output_type": "stream",
     "text": [
      "(1258,)\n",
      "(1258,)\n"
     ]
    },
    {
     "data": {
      "text/plain": [
       "array([[0.08581368],\n",
       "       [0.09701243],\n",
       "       [0.09433366],\n",
       "       ...,\n",
       "       [0.95725128],\n",
       "       [0.93796041],\n",
       "       [0.93688146]])"
      ]
     },
     "execution_count": 30,
     "metadata": {},
     "output_type": "execute_result"
    }
   ],
   "source": [
    "data_target_scaled = scaledata(dataset_train['Open'])[0]\n",
    "scaler = scaledata(dataset_train['Open'])[1]\n",
    "data_target_scaled"
   ]
  },
  {
   "cell_type": "code",
   "execution_count": 37,
   "id": "8abf4ec0",
   "metadata": {},
   "outputs": [
    {
     "data": {
      "text/html": [
       "<div>\n",
       "<style scoped>\n",
       "    .dataframe tbody tr th:only-of-type {\n",
       "        vertical-align: middle;\n",
       "    }\n",
       "\n",
       "    .dataframe tbody tr th {\n",
       "        vertical-align: top;\n",
       "    }\n",
       "\n",
       "    .dataframe thead th {\n",
       "        text-align: right;\n",
       "    }\n",
       "</style>\n",
       "<table border=\"1\" class=\"dataframe\">\n",
       "  <thead>\n",
       "    <tr style=\"text-align: right;\">\n",
       "      <th></th>\n",
       "      <th>Date</th>\n",
       "      <th>Open</th>\n",
       "      <th>High</th>\n",
       "      <th>Low</th>\n",
       "      <th>Close</th>\n",
       "      <th>Volume</th>\n",
       "    </tr>\n",
       "  </thead>\n",
       "  <tbody>\n",
       "    <tr>\n",
       "      <th>0</th>\n",
       "      <td>1/3/2012</td>\n",
       "      <td>325.25</td>\n",
       "      <td>332.83</td>\n",
       "      <td>324.97</td>\n",
       "      <td>663.59</td>\n",
       "      <td>7,380,500</td>\n",
       "    </tr>\n",
       "    <tr>\n",
       "      <th>1</th>\n",
       "      <td>1/4/2012</td>\n",
       "      <td>331.27</td>\n",
       "      <td>333.87</td>\n",
       "      <td>329.08</td>\n",
       "      <td>666.45</td>\n",
       "      <td>5,749,400</td>\n",
       "    </tr>\n",
       "    <tr>\n",
       "      <th>2</th>\n",
       "      <td>1/5/2012</td>\n",
       "      <td>329.83</td>\n",
       "      <td>330.75</td>\n",
       "      <td>326.89</td>\n",
       "      <td>657.21</td>\n",
       "      <td>6,590,300</td>\n",
       "    </tr>\n",
       "    <tr>\n",
       "      <th>3</th>\n",
       "      <td>1/6/2012</td>\n",
       "      <td>328.34</td>\n",
       "      <td>328.77</td>\n",
       "      <td>323.68</td>\n",
       "      <td>648.24</td>\n",
       "      <td>5,405,900</td>\n",
       "    </tr>\n",
       "    <tr>\n",
       "      <th>4</th>\n",
       "      <td>1/9/2012</td>\n",
       "      <td>322.04</td>\n",
       "      <td>322.29</td>\n",
       "      <td>309.46</td>\n",
       "      <td>620.76</td>\n",
       "      <td>11,688,800</td>\n",
       "    </tr>\n",
       "    <tr>\n",
       "      <th>...</th>\n",
       "      <td>...</td>\n",
       "      <td>...</td>\n",
       "      <td>...</td>\n",
       "      <td>...</td>\n",
       "      <td>...</td>\n",
       "      <td>...</td>\n",
       "    </tr>\n",
       "    <tr>\n",
       "      <th>1253</th>\n",
       "      <td>12/23/2016</td>\n",
       "      <td>790.90</td>\n",
       "      <td>792.74</td>\n",
       "      <td>787.28</td>\n",
       "      <td>789.91</td>\n",
       "      <td>623,400</td>\n",
       "    </tr>\n",
       "    <tr>\n",
       "      <th>1254</th>\n",
       "      <td>12/27/2016</td>\n",
       "      <td>790.68</td>\n",
       "      <td>797.86</td>\n",
       "      <td>787.66</td>\n",
       "      <td>791.55</td>\n",
       "      <td>789,100</td>\n",
       "    </tr>\n",
       "    <tr>\n",
       "      <th>1255</th>\n",
       "      <td>12/28/2016</td>\n",
       "      <td>793.70</td>\n",
       "      <td>794.23</td>\n",
       "      <td>783.20</td>\n",
       "      <td>785.05</td>\n",
       "      <td>1,153,800</td>\n",
       "    </tr>\n",
       "    <tr>\n",
       "      <th>1256</th>\n",
       "      <td>12/29/2016</td>\n",
       "      <td>783.33</td>\n",
       "      <td>785.93</td>\n",
       "      <td>778.92</td>\n",
       "      <td>782.79</td>\n",
       "      <td>744,300</td>\n",
       "    </tr>\n",
       "    <tr>\n",
       "      <th>1257</th>\n",
       "      <td>12/30/2016</td>\n",
       "      <td>782.75</td>\n",
       "      <td>782.78</td>\n",
       "      <td>770.41</td>\n",
       "      <td>771.82</td>\n",
       "      <td>1,770,000</td>\n",
       "    </tr>\n",
       "  </tbody>\n",
       "</table>\n",
       "<p>1258 rows × 6 columns</p>\n",
       "</div>"
      ],
      "text/plain": [
       "            Date    Open    High     Low   Close      Volume\n",
       "0       1/3/2012  325.25  332.83  324.97  663.59   7,380,500\n",
       "1       1/4/2012  331.27  333.87  329.08  666.45   5,749,400\n",
       "2       1/5/2012  329.83  330.75  326.89  657.21   6,590,300\n",
       "3       1/6/2012  328.34  328.77  323.68  648.24   5,405,900\n",
       "4       1/9/2012  322.04  322.29  309.46  620.76  11,688,800\n",
       "...          ...     ...     ...     ...     ...         ...\n",
       "1253  12/23/2016  790.90  792.74  787.28  789.91     623,400\n",
       "1254  12/27/2016  790.68  797.86  787.66  791.55     789,100\n",
       "1255  12/28/2016  793.70  794.23  783.20  785.05   1,153,800\n",
       "1256  12/29/2016  783.33  785.93  778.92  782.79     744,300\n",
       "1257  12/30/2016  782.75  782.78  770.41  771.82   1,770,000\n",
       "\n",
       "[1258 rows x 6 columns]"
      ]
     },
     "execution_count": 37,
     "metadata": {},
     "output_type": "execute_result"
    }
   ],
   "source": [
    "dataset_train"
   ]
  },
  {
   "cell_type": "code",
   "execution_count": 40,
   "id": "8b261b39",
   "metadata": {},
   "outputs": [],
   "source": [
    "d = pd.read_csv('D:/Users/dell1/Downloads/GOOG.csv')"
   ]
  },
  {
   "cell_type": "code",
   "execution_count": 41,
   "id": "e1bc1588",
   "metadata": {},
   "outputs": [
    {
     "name": "stdout",
     "output_type": "stream",
     "text": [
      "(120,)\n",
      "(250,)\n",
      "Prediction: 119.86969757080078\n"
     ]
    },
    {
     "name": "stderr",
     "output_type": "stream",
     "text": [
      "C:\\Users\\dell1\\anaconda3\\lib\\site-packages\\pandas\\core\\indexing.py:692: SettingWithCopyWarning: \n",
      "A value is trying to be set on a copy of a slice from a DataFrame\n",
      "\n",
      "See the caveats in the documentation: https://pandas.pydata.org/pandas-docs/stable/user_guide/indexing.html#returning-a-view-versus-a-copy\n",
      "  iloc._setitem_with_indexer(indexer, value, self.name)\n"
     ]
    },
    {
     "data": {
      "text/html": [
       "<div>\n",
       "<style scoped>\n",
       "    .dataframe tbody tr th:only-of-type {\n",
       "        vertical-align: middle;\n",
       "    }\n",
       "\n",
       "    .dataframe tbody tr th {\n",
       "        vertical-align: top;\n",
       "    }\n",
       "\n",
       "    .dataframe thead th {\n",
       "        text-align: right;\n",
       "    }\n",
       "</style>\n",
       "<table border=\"1\" class=\"dataframe\">\n",
       "  <thead>\n",
       "    <tr style=\"text-align: right;\">\n",
       "      <th></th>\n",
       "      <th>Open</th>\n",
       "    </tr>\n",
       "  </thead>\n",
       "  <tbody>\n",
       "    <tr>\n",
       "      <th>0</th>\n",
       "      <td>107.514503</td>\n",
       "    </tr>\n",
       "    <tr>\n",
       "      <th>1</th>\n",
       "      <td>114.092003</td>\n",
       "    </tr>\n",
       "    <tr>\n",
       "      <th>2</th>\n",
       "      <td>116.008003</td>\n",
       "    </tr>\n",
       "    <tr>\n",
       "      <th>3</th>\n",
       "      <td>117.550003</td>\n",
       "    </tr>\n",
       "    <tr>\n",
       "      <th>4</th>\n",
       "      <td>118.650002</td>\n",
       "    </tr>\n",
       "    <tr>\n",
       "      <th>...</th>\n",
       "      <td>...</td>\n",
       "    </tr>\n",
       "    <tr>\n",
       "      <th>246</th>\n",
       "      <td>117.839996</td>\n",
       "    </tr>\n",
       "    <tr>\n",
       "      <th>247</th>\n",
       "      <td>117.959999</td>\n",
       "    </tr>\n",
       "    <tr>\n",
       "      <th>248</th>\n",
       "      <td>120.089996</td>\n",
       "    </tr>\n",
       "    <tr>\n",
       "      <th>249</th>\n",
       "      <td>121.099998</td>\n",
       "    </tr>\n",
       "    <tr>\n",
       "      <th>250</th>\n",
       "      <td>119.869698</td>\n",
       "    </tr>\n",
       "  </tbody>\n",
       "</table>\n",
       "<p>251 rows × 1 columns</p>\n",
       "</div>"
      ],
      "text/plain": [
       "           Open\n",
       "0    107.514503\n",
       "1    114.092003\n",
       "2    116.008003\n",
       "3    117.550003\n",
       "4    118.650002\n",
       "..          ...\n",
       "246  117.839996\n",
       "247  117.959999\n",
       "248  120.089996\n",
       "249  121.099998\n",
       "250  119.869698\n",
       "\n",
       "[251 rows x 1 columns]"
      ]
     },
     "execution_count": 41,
     "metadata": {},
     "output_type": "execute_result"
    }
   ],
   "source": [
    "futurePrediciton1D(d['Open'],start='2012-03-01', end='2017-01-01')"
   ]
  },
  {
   "cell_type": "code",
   "execution_count": 42,
   "id": "3fc07c99",
   "metadata": {},
   "outputs": [
    {
     "data": {
      "text/html": [
       "<div>\n",
       "<style scoped>\n",
       "    .dataframe tbody tr th:only-of-type {\n",
       "        vertical-align: middle;\n",
       "    }\n",
       "\n",
       "    .dataframe tbody tr th {\n",
       "        vertical-align: top;\n",
       "    }\n",
       "\n",
       "    .dataframe thead th {\n",
       "        text-align: right;\n",
       "    }\n",
       "</style>\n",
       "<table border=\"1\" class=\"dataframe\">\n",
       "  <thead>\n",
       "    <tr style=\"text-align: right;\">\n",
       "      <th></th>\n",
       "      <th>Date</th>\n",
       "      <th>Open</th>\n",
       "      <th>High</th>\n",
       "      <th>Low</th>\n",
       "      <th>Close</th>\n",
       "      <th>Adj Close</th>\n",
       "      <th>Volume</th>\n",
       "    </tr>\n",
       "  </thead>\n",
       "  <tbody>\n",
       "    <tr>\n",
       "      <th>0</th>\n",
       "      <td>2022-07-05</td>\n",
       "      <td>107.514503</td>\n",
       "      <td>114.052597</td>\n",
       "      <td>106.249496</td>\n",
       "      <td>113.887001</td>\n",
       "      <td>113.887001</td>\n",
       "      <td>36398000</td>\n",
       "    </tr>\n",
       "    <tr>\n",
       "      <th>1</th>\n",
       "      <td>2022-07-06</td>\n",
       "      <td>114.092003</td>\n",
       "      <td>116.351997</td>\n",
       "      <td>112.250504</td>\n",
       "      <td>115.213501</td>\n",
       "      <td>115.213501</td>\n",
       "      <td>28852000</td>\n",
       "    </tr>\n",
       "    <tr>\n",
       "      <th>2</th>\n",
       "      <td>2022-07-07</td>\n",
       "      <td>116.008003</td>\n",
       "      <td>119.862000</td>\n",
       "      <td>115.533997</td>\n",
       "      <td>119.306000</td>\n",
       "      <td>119.306000</td>\n",
       "      <td>32184000</td>\n",
       "    </tr>\n",
       "    <tr>\n",
       "      <th>3</th>\n",
       "      <td>2022-07-08</td>\n",
       "      <td>117.550003</td>\n",
       "      <td>120.434998</td>\n",
       "      <td>117.514000</td>\n",
       "      <td>120.168503</td>\n",
       "      <td>120.168503</td>\n",
       "      <td>29082000</td>\n",
       "    </tr>\n",
       "    <tr>\n",
       "      <th>4</th>\n",
       "      <td>2022-07-11</td>\n",
       "      <td>118.650002</td>\n",
       "      <td>118.794502</td>\n",
       "      <td>116.234497</td>\n",
       "      <td>116.522499</td>\n",
       "      <td>116.522499</td>\n",
       "      <td>26718000</td>\n",
       "    </tr>\n",
       "    <tr>\n",
       "      <th>...</th>\n",
       "      <td>...</td>\n",
       "      <td>...</td>\n",
       "      <td>...</td>\n",
       "      <td>...</td>\n",
       "      <td>...</td>\n",
       "      <td>...</td>\n",
       "      <td>...</td>\n",
       "    </tr>\n",
       "    <tr>\n",
       "      <th>245</th>\n",
       "      <td>2023-06-26</td>\n",
       "      <td>121.466003</td>\n",
       "      <td>122.720001</td>\n",
       "      <td>118.989998</td>\n",
       "      <td>119.089996</td>\n",
       "      <td>119.089996</td>\n",
       "      <td>23185000</td>\n",
       "    </tr>\n",
       "    <tr>\n",
       "      <th>246</th>\n",
       "      <td>2023-06-27</td>\n",
       "      <td>117.839996</td>\n",
       "      <td>119.894997</td>\n",
       "      <td>116.910004</td>\n",
       "      <td>119.010002</td>\n",
       "      <td>119.010002</td>\n",
       "      <td>27221700</td>\n",
       "    </tr>\n",
       "    <tr>\n",
       "      <th>247</th>\n",
       "      <td>2023-06-28</td>\n",
       "      <td>117.959999</td>\n",
       "      <td>121.269997</td>\n",
       "      <td>117.599998</td>\n",
       "      <td>121.080002</td>\n",
       "      <td>121.080002</td>\n",
       "      <td>19753100</td>\n",
       "    </tr>\n",
       "    <tr>\n",
       "      <th>248</th>\n",
       "      <td>2023-06-29</td>\n",
       "      <td>120.089996</td>\n",
       "      <td>120.910004</td>\n",
       "      <td>119.209999</td>\n",
       "      <td>120.010002</td>\n",
       "      <td>120.010002</td>\n",
       "      <td>18517500</td>\n",
       "    </tr>\n",
       "    <tr>\n",
       "      <th>249</th>\n",
       "      <td>2023-06-30</td>\n",
       "      <td>121.099998</td>\n",
       "      <td>122.029999</td>\n",
       "      <td>120.879997</td>\n",
       "      <td>120.970001</td>\n",
       "      <td>120.970001</td>\n",
       "      <td>23865800</td>\n",
       "    </tr>\n",
       "  </tbody>\n",
       "</table>\n",
       "<p>250 rows × 7 columns</p>\n",
       "</div>"
      ],
      "text/plain": [
       "           Date        Open        High         Low       Close   Adj Close  \\\n",
       "0    2022-07-05  107.514503  114.052597  106.249496  113.887001  113.887001   \n",
       "1    2022-07-06  114.092003  116.351997  112.250504  115.213501  115.213501   \n",
       "2    2022-07-07  116.008003  119.862000  115.533997  119.306000  119.306000   \n",
       "3    2022-07-08  117.550003  120.434998  117.514000  120.168503  120.168503   \n",
       "4    2022-07-11  118.650002  118.794502  116.234497  116.522499  116.522499   \n",
       "..          ...         ...         ...         ...         ...         ...   \n",
       "245  2023-06-26  121.466003  122.720001  118.989998  119.089996  119.089996   \n",
       "246  2023-06-27  117.839996  119.894997  116.910004  119.010002  119.010002   \n",
       "247  2023-06-28  117.959999  121.269997  117.599998  121.080002  121.080002   \n",
       "248  2023-06-29  120.089996  120.910004  119.209999  120.010002  120.010002   \n",
       "249  2023-06-30  121.099998  122.029999  120.879997  120.970001  120.970001   \n",
       "\n",
       "       Volume  \n",
       "0    36398000  \n",
       "1    28852000  \n",
       "2    32184000  \n",
       "3    29082000  \n",
       "4    26718000  \n",
       "..        ...  \n",
       "245  23185000  \n",
       "246  27221700  \n",
       "247  19753100  \n",
       "248  18517500  \n",
       "249  23865800  \n",
       "\n",
       "[250 rows x 7 columns]"
      ]
     },
     "execution_count": 42,
     "metadata": {},
     "output_type": "execute_result"
    }
   ],
   "source": [
    "d"
   ]
  },
  {
   "cell_type": "code",
   "execution_count": null,
   "id": "d36517e6",
   "metadata": {},
   "outputs": [],
   "source": []
  }
 ],
 "metadata": {
  "kernelspec": {
   "display_name": "Python 3",
   "language": "python",
   "name": "python3"
  },
  "language_info": {
   "codemirror_mode": {
    "name": "ipython",
    "version": 3
   },
   "file_extension": ".py",
   "mimetype": "text/x-python",
   "name": "python",
   "nbconvert_exporter": "python",
   "pygments_lexer": "ipython3",
   "version": "3.8.8"
  }
 },
 "nbformat": 4,
 "nbformat_minor": 5
}
